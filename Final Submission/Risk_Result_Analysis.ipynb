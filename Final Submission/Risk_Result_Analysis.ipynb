{
 "cells": [
  {
   "cell_type": "markdown",
   "metadata": {},
   "source": [
    "### In this notebook we translate the risk sum to categories betwwen (1-5) and compare with risk cluster results"
   ]
  },
  {
   "cell_type": "code",
   "execution_count": 1,
   "metadata": {
    "collapsed": true
   },
   "outputs": [],
   "source": [
    "import pandas as pd\n",
    "import numpy as np\n",
    "import matplotlib.pyplot as plt"
   ]
  },
  {
   "cell_type": "code",
   "execution_count": 6,
   "metadata": {
    "collapsed": true
   },
   "outputs": [],
   "source": [
    "def Risk_Comp(df_RiskSum, df_RiskCluster):\n",
    "    \"\"\"\n",
    "    In this method we translate the standardized risk sum values\n",
    "    and join that with risk cluster colums\n",
    "    ** For now it averages the risk sum over Vendor Code and Part Number\n",
    "    for df_RiskSum and takes the max for RiskCluster \n",
    "    \"\"\"\n",
    "    \n",
    "    # prepping the data\n",
    "    \n",
    "    df_RS = df_RiskSum.groupby(['Vendor Code','Part Number'])['RiskSum'].mean().reset_index()\n",
    "    df_RC = df_RiskCluster.groupby(['Vendor Code','Part Number'])['risk'].max().reset_index()\n",
    "    \n",
    "    df_risk_merged = df_RS.merge(df_RC, on = ['Vendor Code','Part Number'])\n",
    "    \n",
    "    df_risk_merged.ix[(df_risk_merged['RiskSum']>=0) & (df_risk_merged['RiskSum']<0.2),'Risk Tag']=0  \n",
    "    df_risk_merged.ix[(df_risk_merged['RiskSum']>=0.2) & (df_risk_merged['RiskSum']<0.4),'Risk Tag']=1\n",
    "    df_risk_merged.ix[(df_risk_merged['RiskSum']>=0.4) & (df_risk_merged['RiskSum']<0.6),'Risk Tag']=2\n",
    "    df_risk_merged.ix[(df_risk_merged['RiskSum']>=0.6) & (df_risk_merged['RiskSum']<0.8),'Risk Tag']=3\n",
    "    df_risk_merged.ix[(df_risk_merged['RiskSum']>=0.8) & (df_risk_merged['RiskSum']<=1),'Risk Tag']=4\n",
    "        \n",
    "    \n",
    "    return df_risk_merged\n",
    "    \n",
    "    "
   ]
  },
  {
   "cell_type": "code",
   "execution_count": 5,
   "metadata": {
    "collapsed": false,
    "scrolled": true
   },
   "outputs": [
    {
     "name": "stdout",
     "output_type": "stream",
     "text": [
      "   Vendor Code    Part Number   RiskSum  risk  Risk Tag\n",
      "0           83  10511-2928-11  0.090569     4       0.0\n",
      "1          612  12071-0100-01  0.089619     0       0.0\n",
      "2          612  12071-0101-01  0.089528     0       0.0\n",
      "3          612   P70-0002-001  0.089665     0       0.0\n",
      "4          630  10400-0422-01  0.154456     4       0.0\n"
     ]
    },
    {
     "name": "stderr",
     "output_type": "stream",
     "text": [
      "C:\\Program Files\\Anaconda3\\lib\\site-packages\\ipykernel\\__main__.py:16: DeprecationWarning: \n",
      ".ix is deprecated. Please use\n",
      ".loc for label based indexing or\n",
      ".iloc for positional indexing\n",
      "\n",
      "See the documentation here:\n",
      "http://pandas.pydata.org/pandas-docs/stable/indexing.html#ix-indexer-is-deprecated\n",
      "C:\\Program Files\\Anaconda3\\lib\\site-packages\\ipykernel\\__main__.py:17: DeprecationWarning: \n",
      ".ix is deprecated. Please use\n",
      ".loc for label based indexing or\n",
      ".iloc for positional indexing\n",
      "\n",
      "See the documentation here:\n",
      "http://pandas.pydata.org/pandas-docs/stable/indexing.html#ix-indexer-is-deprecated\n",
      "C:\\Program Files\\Anaconda3\\lib\\site-packages\\ipykernel\\__main__.py:18: DeprecationWarning: \n",
      ".ix is deprecated. Please use\n",
      ".loc for label based indexing or\n",
      ".iloc for positional indexing\n",
      "\n",
      "See the documentation here:\n",
      "http://pandas.pydata.org/pandas-docs/stable/indexing.html#ix-indexer-is-deprecated\n",
      "C:\\Program Files\\Anaconda3\\lib\\site-packages\\ipykernel\\__main__.py:19: DeprecationWarning: \n",
      ".ix is deprecated. Please use\n",
      ".loc for label based indexing or\n",
      ".iloc for positional indexing\n",
      "\n",
      "See the documentation here:\n",
      "http://pandas.pydata.org/pandas-docs/stable/indexing.html#ix-indexer-is-deprecated\n",
      "C:\\Program Files\\Anaconda3\\lib\\site-packages\\ipykernel\\__main__.py:20: DeprecationWarning: \n",
      ".ix is deprecated. Please use\n",
      ".loc for label based indexing or\n",
      ".iloc for positional indexing\n",
      "\n",
      "See the documentation here:\n",
      "http://pandas.pydata.org/pandas-docs/stable/indexing.html#ix-indexer-is-deprecated\n"
     ]
    }
   ],
   "source": [
    "RSDATA = 'Harris Data/Expo_Purchasing_Risk_Sum.xlsx'\n",
    "RCDATA = '../output/Risk_clusters.csv'\n",
    "df_RiskSum = pd.read_excel(RSDATA)\n",
    "df_RiskCluster = pd.read_csv(RCDATA)"
   ]
  },
  {
   "cell_type": "code",
   "execution_count": 8,
   "metadata": {
    "collapsed": false,
    "scrolled": true
   },
   "outputs": [
    {
     "name": "stderr",
     "output_type": "stream",
     "text": [
      "C:\\Program Files\\Anaconda3\\lib\\site-packages\\ipykernel\\__main__.py:16: DeprecationWarning: \n",
      ".ix is deprecated. Please use\n",
      ".loc for label based indexing or\n",
      ".iloc for positional indexing\n",
      "\n",
      "See the documentation here:\n",
      "http://pandas.pydata.org/pandas-docs/stable/indexing.html#ix-indexer-is-deprecated\n",
      "C:\\Program Files\\Anaconda3\\lib\\site-packages\\ipykernel\\__main__.py:17: DeprecationWarning: \n",
      ".ix is deprecated. Please use\n",
      ".loc for label based indexing or\n",
      ".iloc for positional indexing\n",
      "\n",
      "See the documentation here:\n",
      "http://pandas.pydata.org/pandas-docs/stable/indexing.html#ix-indexer-is-deprecated\n",
      "C:\\Program Files\\Anaconda3\\lib\\site-packages\\ipykernel\\__main__.py:18: DeprecationWarning: \n",
      ".ix is deprecated. Please use\n",
      ".loc for label based indexing or\n",
      ".iloc for positional indexing\n",
      "\n",
      "See the documentation here:\n",
      "http://pandas.pydata.org/pandas-docs/stable/indexing.html#ix-indexer-is-deprecated\n",
      "C:\\Program Files\\Anaconda3\\lib\\site-packages\\ipykernel\\__main__.py:19: DeprecationWarning: \n",
      ".ix is deprecated. Please use\n",
      ".loc for label based indexing or\n",
      ".iloc for positional indexing\n",
      "\n",
      "See the documentation here:\n",
      "http://pandas.pydata.org/pandas-docs/stable/indexing.html#ix-indexer-is-deprecated\n",
      "C:\\Program Files\\Anaconda3\\lib\\site-packages\\ipykernel\\__main__.py:20: DeprecationWarning: \n",
      ".ix is deprecated. Please use\n",
      ".loc for label based indexing or\n",
      ".iloc for positional indexing\n",
      "\n",
      "See the documentation here:\n",
      "http://pandas.pydata.org/pandas-docs/stable/indexing.html#ix-indexer-is-deprecated\n"
     ]
    }
   ],
   "source": [
    "df_risk=Risk_Comp(df_RiskSum,df_RiskCluster)"
   ]
  },
  {
   "cell_type": "code",
   "execution_count": 45,
   "metadata": {
    "collapsed": false
   },
   "outputs": [],
   "source": [
    "def Cluster_plot(df,maingroup):\n",
    "    \"\"\"\n",
    "    Given dataframe and maingroup: group of columns used\n",
    "    for grouping and making pivot table\n",
    "    \"\"\"\n",
    "    df= df[maingroup].groupby(['risk','Risk Tag']).count().reset_index()\n",
    "    df=df.rename(columns={'Vendor Code':'count'})\n",
    "    df.pivot(\"risk\", \"Risk Tag\", \"count\").plot(kind='bar',figsize=(5,10))\n",
    "    plt.ylabel('Risk Tag counts')\n",
    "    plt.show()\n"
   ]
  },
  {
   "cell_type": "code",
   "execution_count": 46,
   "metadata": {
    "collapsed": false,
    "scrolled": false
   },
   "outputs": [
    {
     "data": {
      "image/png": "[encoded data removed]",
      "text/plain": [
       "<matplotlib.figure.Figure at 0x19760742470>"
      ]
     },
     "metadata": {},
     "output_type": "display_data"
    }
   ],
   "source": [
    "Cluster_plot(df_risk,['Risk Tag','risk','Vendor Code'])"
   ]
  },
  {
   "cell_type": "code",
   "execution_count": null,
   "metadata": {
    "collapsed": true
   },
   "outputs": [],
   "source": []
  }
 ],
 "metadata": {
  "anaconda-cloud": {},
  "kernelspec": {
   "display_name": "Python [default]",
   "language": "python",
   "name": "python3"
  },
  "language_info": {
   "codemirror_mode": {
    "name": "ipython",
    "version": 3
   },
   "file_extension": ".py",
   "mimetype": "text/x-python",
   "name": "python",
   "nbconvert_exporter": "python",
   "pygments_lexer": "ipython3",
   "version": "3.5.2"
  }
 },
 "nbformat": 4,
 "nbformat_minor": 2
}
