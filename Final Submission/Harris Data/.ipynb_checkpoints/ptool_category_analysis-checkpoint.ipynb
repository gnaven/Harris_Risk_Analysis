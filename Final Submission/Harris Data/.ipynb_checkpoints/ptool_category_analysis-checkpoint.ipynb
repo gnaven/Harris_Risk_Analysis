{
 "cells": [
  {
   "cell_type": "code",
   "execution_count": 31,
   "metadata": {
    "collapsed": false
   },
   "outputs": [],
   "source": [
    "import pandas as pd\n",
    "\n",
    "purchasing = pd.read_excel(\"PurchasingTool_cleaned.xlsx\")"
   ]
  },
  {
   "cell_type": "code",
   "execution_count": 2,
   "metadata": {
    "collapsed": false
   },
   "outputs": [
    {
     "ename": "NameError",
     "evalue": "name 'join' is not defined",
     "output_type": "error",
     "traceback": [
      "\u001b[0;31m---------------------------------------------------------------------------\u001b[0m",
      "\u001b[0;31mNameError\u001b[0m                                 Traceback (most recent call last)",
      "\u001b[0;32m<ipython-input-2-101211d396ef>\u001b[0m in \u001b[0;36m<module>\u001b[0;34m()\u001b[0m\n\u001b[1;32m      5\u001b[0m        'InternalCostSavings', 'Spend', 'PurchLeadTime']\n\u001b[1;32m      6\u001b[0m \u001b[0;34m\u001b[0m\u001b[0m\n\u001b[0;32m----> 7\u001b[0;31m \u001b[0mcategories\u001b[0m \u001b[0;34m=\u001b[0m \u001b[0mjoin\u001b[0m\u001b[0;34m[\u001b[0m\u001b[0;34m'Category'\u001b[0m\u001b[0;34m]\u001b[0m\u001b[0;34m.\u001b[0m\u001b[0mdrop_duplicates\u001b[0m\u001b[0;34m(\u001b[0m\u001b[0;34m)\u001b[0m\u001b[0;34m\u001b[0m\u001b[0m\n\u001b[0m\u001b[1;32m      8\u001b[0m \u001b[0;34m\u001b[0m\u001b[0m\n\u001b[1;32m      9\u001b[0m \u001b[0;32mfor\u001b[0m \u001b[0mfeat\u001b[0m \u001b[0;32min\u001b[0m \u001b[0mfeatures\u001b[0m\u001b[0;34m:\u001b[0m\u001b[0;34m\u001b[0m\u001b[0m\n",
      "\u001b[0;31mNameError\u001b[0m: name 'join' is not defined"
     ]
    }
   ],
   "source": [
    "import matplotlib.pyplot as plt\n",
    "import numpy as np\n",
    "\n",
    "features = ['StdCost', 'PoCost', 'Qty',\n",
    "       'InternalCostSavings', 'Spend', 'PurchLeadTime']\n",
    "\n",
    "categories = purchasing['Category'].drop_duplicates()\n",
    "\n",
    "for feat in features:\n",
    "    count = 1\n",
    "    f, axs = plt.subplots(3,5,figsize=(25,25))\n",
    "    for cat in categories:\n",
    "        current_feat = purchasing[(purchasing['Category'] == cat)][feat]\n",
    "        plt.subplot(3, 5, count)\n",
    "        plt.hist(current_feat, bins = 50)\n",
    "        print \"Category: \" + cat + \", Feature: \" + feat\n",
    "        print \"std: \" + str(np.std(current_feat))\n",
    "        print \"mean: \" + str(np.mean(current_feat))\n",
    "        print \"median: \" + str(np.median(current_feat))\n",
    "        print \"max: \" + str(np.max(current_feat))\n",
    "        print \"min: \" + str(np.min(current_feat)) + \"\\n\\n\"\n",
    "        plt.title(cat + \", \" + feat)\n",
    "        plt.xlabel = (\"Value\")\n",
    "        plt.ylabel = (\"Count\")\n",
    "        count += 1\n",
    "    fname = \"category_distr/\" + feat + \"_distr\"\n",
    "    plt.savefig(fname)\n",
    "    plt.show()\n",
    "    "
   ]
  },
  {
   "cell_type": "code",
   "execution_count": null,
   "metadata": {
    "collapsed": true
   },
   "outputs": [],
   "source": []
  }
 ],
 "metadata": {
  "kernelspec": {
   "display_name": "Python 2",
   "language": "python",
   "name": "python2"
  },
  "language_info": {
   "codemirror_mode": {
    "name": "ipython",
    "version": 2
   },
   "file_extension": ".py",
   "mimetype": "text/x-python",
   "name": "python",
   "nbconvert_exporter": "python",
   "pygments_lexer": "ipython2",
   "version": "2.7.13"
  }
 },
 "nbformat": 4,
 "nbformat_minor": 2
}
