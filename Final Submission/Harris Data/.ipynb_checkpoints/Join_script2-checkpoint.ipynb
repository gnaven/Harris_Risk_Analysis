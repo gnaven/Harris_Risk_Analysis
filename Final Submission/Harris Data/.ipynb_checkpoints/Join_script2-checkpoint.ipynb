{
 "cells": [
  {
   "cell_type": "code",
   "execution_count": 1,
   "metadata": {
    "collapsed": false
   },
   "outputs": [],
   "source": [
    "import pandas as pd\n",
    "\n",
    "expo = pd.read_excel(\"ExpoArchive_cleaned.xlsx\")\n",
    "purchasing = pd.read_excel(\"PurchasingTool FY16-FY18(3).xlsx\")\n",
    "scorecard = pd.read_excel(\"Expo_Supplier_Scorecard_Data(1).xlsx\")"
   ]
  },
  {
   "cell_type": "code",
   "execution_count": 2,
   "metadata": {
    "collapsed": false
   },
   "outputs": [],
   "source": [
    "purchasing_feats = ['Vendor Code','StdCost', 'PoCost','Part', 'Period', 'Qty', 'InternalCostSavings','Spend', 'PurchLeadTime', 'ABC']\n",
    "expo_feats = ['Vendor Code', 'Part Number','Critical', 'Late Need','Late Performance']\n",
    "scorecard_feats = ['Vendor Code','Period', 'QualityScore','DeliveryScore']\n",
    "\n",
    "expo = expo[expo_feats]\n",
    "purchasing = purchasing[purchasing_feats]\n",
    "scorecard = scorecard[scorecard_feats]\n",
    "\n",
    "expo = expo.dropna()\n",
    "purchasing = purchasing.dropna()\n",
    "scorecard = scorecard.dropna()\n",
    "scorecard = scorecard.reset_index(drop = True)\n",
    "\n",
    "ABC_dict = {'A':0.8, 'B':0.5, 'C':0.2}\n",
    "purchasing['ABC'] = [ABC_dict[i] for i in purchasing['ABC']]\n",
    "\n",
    "purchasing.columns = ['Vendor Code', 'StdCost', 'PoCost', 'Part Number', 'Period', 'Qty',\n",
    "       'InternalCostSavings', 'Spend', 'PurchLeadTime', 'ABC']\n",
    "\n"
   ]
  },
  {
   "cell_type": "code",
   "execution_count": 3,
   "metadata": {
    "collapsed": false
   },
   "outputs": [],
   "source": [
    "bad_periods = ['Current Fiscal Year', 'Previous Fiscal Year', 'Last 12 Complete Periods', 'Current Period']\n",
    "bad_index = []\n",
    "for i in range(len(scorecard)):\n",
    "    if scorecard.iloc[i]['Period'] in bad_periods:\n",
    "        bad_index = bad_index + [i]\n",
    "        \n",
    "scorecard = scorecard.drop(bad_index)"
   ]
  },
  {
   "cell_type": "code",
   "execution_count": 4,
   "metadata": {
    "collapsed": false
   },
   "outputs": [],
   "source": [
    "scorecard['Period'] = [str(s)[0:4] + \"-\" + str(s)[4:6] for s in scorecard['Period']]\n"
   ]
  },
  {
   "cell_type": "code",
   "execution_count": 5,
   "metadata": {
    "collapsed": false
   },
   "outputs": [
    {
     "name": "stdout",
     "output_type": "stream",
     "text": [
      "   Vendor Code    Part Number Critical  Late Need  Late Performance  StdCost  \\\n",
      "0        64874   I03-0079-002    False          9                 0   4.7490   \n",
      "1        64874   I03-0079-002    False          9                 0   4.7490   \n",
      "2      1000303  12043-3757-01     True          0                 0   0.4428   \n",
      "3      1000303  12043-3757-01     True          0                 0   0.4428   \n",
      "4      1000303  12043-3757-01     True          0                 0   0.4428   \n",
      "\n",
      "   PoCost   Period     Qty  InternalCostSavings     Spend  PurchLeadTime  ABC  \n",
      "0  4.7490  2017-03  2500.0             508.9748  11872.50            112  0.5  \n",
      "1  4.7490  2018-03  2500.0             356.5002  11872.50            112  0.5  \n",
      "2  0.4428  2016-08  2700.0               0.0000   1195.56             42  0.5  \n",
      "3  0.4428  2016-09  3000.0               0.0000   1328.40             42  0.5  \n",
      "4  0.4428  2016-10  2400.0               0.0000   1062.72             42  0.5  \n"
     ]
    }
   ],
   "source": [
    "join = expo.merge(purchasing, on = ['Vendor Code', \"Part Number\"], how = 'inner')\n",
    "print join.head()"
   ]
  },
  {
   "cell_type": "code",
   "execution_count": 6,
   "metadata": {
    "collapsed": false
   },
   "outputs": [
    {
     "name": "stdout",
     "output_type": "stream",
     "text": [
      "   Vendor Code    Part Number Critical  Late Need  Late Performance  StdCost  \\\n",
      "0        64874   I03-0079-002    False          9                 0   4.7490   \n",
      "1        64874   I03-0079-002    False          9                 0   4.7490   \n",
      "2      1000303  12043-3757-01     True          0                 0   0.4428   \n",
      "3      1000303  12043-3757-01     True          0                 0   0.4428   \n",
      "4      1000303  12043-3757-01     True          0                 0   0.4428   \n",
      "\n",
      "   PoCost   Period     Qty  InternalCostSavings     Spend  PurchLeadTime  ABC  \\\n",
      "0  4.7490  2017-03  2500.0             508.9748  11872.50            112  0.5   \n",
      "1  4.7490  2018-03  2500.0             356.5002  11872.50            112  0.5   \n",
      "2  0.4428  2016-08  2700.0               0.0000   1195.56             42  0.5   \n",
      "3  0.4428  2016-09  3000.0               0.0000   1328.40             42  0.5   \n",
      "4  0.4428  2016-10  2400.0               0.0000   1062.72             42  0.5   \n",
      "\n",
      "   QualityScore  DeliveryScore  \n",
      "0           5.0            5.0  \n",
      "1           5.0            5.0  \n",
      "2           5.0            5.0  \n",
      "3           5.0            5.0  \n",
      "4           5.0            5.0  \n"
     ]
    }
   ],
   "source": [
    "join = join.merge(scorecard, on = ['Vendor Code', 'Period'], how = 'left')\n",
    "print join.head()"
   ]
  },
  {
   "cell_type": "code",
   "execution_count": 7,
   "metadata": {
    "collapsed": false
   },
   "outputs": [
    {
     "name": "stdout",
     "output_type": "stream",
     "text": [
      "778212\n"
     ]
    }
   ],
   "source": [
    "join = join.dropna()\n",
    "print len(join)"
   ]
  },
  {
   "cell_type": "code",
   "execution_count": 8,
   "metadata": {
    "collapsed": false
   },
   "outputs": [],
   "source": [
    "writer = pd.ExcelWriter('join.xlsx', engine='xlsxwriter')\n",
    "join.to_excel(writer, sheet_name='Sheet1')\n",
    "writer.save()"
   ]
  },
  {
   "cell_type": "code",
   "execution_count": null,
   "metadata": {
    "collapsed": true
   },
   "outputs": [],
   "source": []
  }
 ],
 "metadata": {
  "kernelspec": {
   "display_name": "Python 2",
   "language": "python",
   "name": "python2"
  },
  "language_info": {
   "codemirror_mode": {
    "name": "ipython",
    "version": 2
   },
   "file_extension": ".py",
   "mimetype": "text/x-python",
   "name": "python",
   "nbconvert_exporter": "python",
   "pygments_lexer": "ipython2",
   "version": "2.7.13"
  }
 },
 "nbformat": 4,
 "nbformat_minor": 2
}
