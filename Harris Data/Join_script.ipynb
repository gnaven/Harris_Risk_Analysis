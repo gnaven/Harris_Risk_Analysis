{
 "cells": [
  {
   "cell_type": "code",
   "execution_count": 34,
   "metadata": {
    "collapsed": false
   },
   "outputs": [],
   "source": [
    "import pandas as pd\n",
    "\n",
    "expo = pd.read_excel(\"ExpoArchive_cleaned.xlsx\")\n",
    "purchasing = pd.read_excel(\"PurchasingTool FY16-FY18(3).xlsx\")\n",
    "scorecard = pd.read_excel(\"Expo_Supplier_Scorecard_Data(1).xlsx\")"
   ]
  },
  {
   "cell_type": "code",
   "execution_count": 35,
   "metadata": {
    "collapsed": false
   },
   "outputs": [],
   "source": [
    "purchasing_feats = ['Vendor Code','StdCost', 'PoCost','Part', 'Qty', 'InternalCostSavings','Spend', 'PurchLeadTime', 'ABC']\n",
    "expo_feats = ['Vendor Code', 'Part Number','Critical', 'Late Need','Late Performance']\n",
    "scorecard_feats = ['Vendor Code','QualityScore','DeliveryScore']\n",
    "\n",
    "expo = expo[expo_feats]\n",
    "purchasing = purchasing[purchasing_feats]\n",
    "scorecard = scorecard[scorecard_feats]\n",
    "\n",
    "expo = expo.dropna()\n",
    "purchasing = purchasing.dropna()\n",
    "scorecard = scorecard.dropna()\n",
    "\n",
    "ABC_dict = {'A':0.8, 'B':0.5, 'C':0.2}\n",
    "purchasing['ABC'] = [ABC_dict[i] for i in purchasing['ABC']]\n",
    "\n",
    "purchasing.columns = ['Vendor Code', 'StdCost', 'PoCost', 'Part Number', 'Qty',\n",
    "       'InternalCostSavings', 'Spend', 'PurchLeadTime', 'ABC']\n",
    "\n"
   ]
  },
  {
   "cell_type": "code",
   "execution_count": 36,
   "metadata": {
    "collapsed": false
   },
   "outputs": [
    {
     "name": "stdout",
     "output_type": "stream",
     "text": [
      "   Vendor Code    Part Number Critical  Late Need  Late Performance  StdCost  \\\n",
      "0        64874   I03-0079-002    False          9                 0   4.7490   \n",
      "1        64874   I03-0079-002    False          9                 0   4.7490   \n",
      "2      1000303  12043-3757-01     True          0                 0   0.4428   \n",
      "3      1000303  12043-3757-01     True          0                 0   0.4428   \n",
      "4      1000303  12043-3757-01     True          0                 0   0.4428   \n",
      "\n",
      "   PoCost     Qty  InternalCostSavings     Spend  PurchLeadTime  ABC  \n",
      "0  4.7490  2500.0             508.9748  11872.50            112  0.5  \n",
      "1  4.7490  2500.0             356.5002  11872.50            112  0.5  \n",
      "2  0.4428  2700.0               0.0000   1195.56             42  0.5  \n",
      "3  0.4428  3000.0               0.0000   1328.40             42  0.5  \n",
      "4  0.4428  2400.0               0.0000   1062.72             42  0.5  \n"
     ]
    }
   ],
   "source": [
    "purch_expo_inner_join = expo.merge(purchasing, on = ['Vendor Code', \"Part Number\"], how = 'inner')\n",
    "print purch_expo_inner_join.head()"
   ]
  },
  {
   "cell_type": "code",
   "execution_count": null,
   "metadata": {
    "collapsed": false
   },
   "outputs": [],
   "source": [
    "writer = pd.ExcelWriter('Expo_Purchasing_join.xlsx', engine='xlsxwriter')\n",
    "purch_expo_inner_join.to_excel(writer, sheet_name='Sheet1')\n",
    "writer.save()"
   ]
  },
  {
   "cell_type": "code",
   "execution_count": null,
   "metadata": {
    "collapsed": true
   },
   "outputs": [],
   "source": []
  }
 ],
 "metadata": {
  "kernelspec": {
   "display_name": "Python 2",
   "language": "python",
   "name": "python2"
  },
  "language_info": {
   "codemirror_mode": {
    "name": "ipython",
    "version": 2
   },
   "file_extension": ".py",
   "mimetype": "text/x-python",
   "name": "python",
   "nbconvert_exporter": "python",
   "pygments_lexer": "ipython2",
   "version": "2.7.13"
  }
 },
 "nbformat": 4,
 "nbformat_minor": 2
}
