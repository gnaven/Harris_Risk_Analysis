{
 "cells": [
  {
   "cell_type": "code",
   "execution_count": null,
   "metadata": {
    "collapsed": false
   },
   "outputs": [],
   "source": [
    "import pandas as pd\n",
    "\n",
    "expo = pd.read_excel(\"ExpoArchive_cleaned.xlsx\")\n",
    "purchasing = pd.read_excel(\"PurchasingTool_cleaned.xlsx\")\n",
    "scorecard = pd.read_excel(\"Scorecard_cleaned.xlsx.xlsx\")"
   ]
  },
  {
   "cell_type": "code",
   "execution_count": null,
   "metadata": {
    "collapsed": false
   },
   "outputs": [],
   "source": [
    "purchasing_feats = ['Vendor Code','StdCost', 'PoCost','Part', 'Qty', 'InternalCostSavings','Spend', 'PurchLeadTime', 'ABC']\n",
    "expo_feats = ['Vendor Code', 'Part Number','Critical', 'Late Need','Late Performance']\n",
    "scorecard_feats = ['Vendor Code','QualityScore','DeliveryScore']\n",
    "\n",
    "expo = expo[expo_feats]\n",
    "purchasing = purchasing[purchasing_feats]\n",
    "scorecard = scorecard[scorecard_feats]\n",
    "\n",
    "expo = expo.dropna()\n",
    "purchasing = purchasing.dropna()\n",
    "scorecard = scorecard.dropna()\n",
    "\n",
    "ABC_dict = {'A':0.8, 'B':0.5, 'C':0.2}\n",
    "purchasing['ABC'] = [ABC_dict[i] for i in purchasing['ABC']]\n",
    "\n",
    "purchasing.columns = ['Vendor Code', 'StdCost', 'PoCost', 'Part Number', 'Qty',\n",
    "       'InternalCostSavings', 'Spend', 'PurchLeadTime', 'ABC']\n",
    "\n"
   ]
  },
  {
   "cell_type": "code",
   "execution_count": null,
   "metadata": {
    "collapsed": false
   },
   "outputs": [],
   "source": [
    "purch_expo_inner_join = expo.merge(purchasing, on = ['Vendor Code', \"Part Number\"], how = 'inner')\n",
    "print purch_expo_inner_join.head()"
   ]
  },
  {
   "cell_type": "code",
   "execution_count": null,
   "metadata": {
    "collapsed": false
   },
   "outputs": [],
   "source": [
    "writer = pd.ExcelWriter('Expo_Purchasing_join.xlsx', engine='xlsxwriter')\n",
    "purch_expo_inner_join.to_excel(writer, sheet_name='Sheet1')\n",
    "writer.save()"
   ]
  },
  {
   "cell_type": "code",
   "execution_count": null,
   "metadata": {
    "collapsed": true
   },
   "outputs": [],
   "source": []
  }
 ],
 "metadata": {
  "kernelspec": {
   "display_name": "Python [conda root]",
   "language": "python",
   "name": "conda-root-py"
  },
  "language_info": {
   "codemirror_mode": {
    "name": "ipython",
    "version": 3
   },
   "file_extension": ".py",
   "mimetype": "text/x-python",
   "name": "python",
   "nbconvert_exporter": "python",
   "pygments_lexer": "ipython3",
   "version": "3.5.2"
  }
 },
 "nbformat": 4,
 "nbformat_minor": 2
}
