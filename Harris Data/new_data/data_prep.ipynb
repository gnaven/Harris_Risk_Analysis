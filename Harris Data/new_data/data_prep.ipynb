{
 "cells": [
  {
   "cell_type": "code",
   "execution_count": 232,
   "metadata": {
    "collapsed": false,
    "scrolled": false
   },
   "outputs": [
    {
     "name": "stdout",
     "output_type": "stream",
     "text": [
      "Index([u'Supplier ID', u'PO', u'Line', u'Shipment', u'Release', u'StdCost',\n",
      "       u'PoCost', u'BuyerNumber', u'BuyProgram', u'BuyerName', u'Part',\n",
      "       u'Description', u'Qty', u'ReceiverNumber', u'SupplierID', u'Year',\n",
      "       u'Period', u'Week', u'Qtr', u'CommodityLevel1', u'CommodityLevel2',\n",
      "       u'CommodityLevel3', u'InternalCostSavings', u'Spend', u'ForecastType',\n",
      "       u'PurchLeadTime', u'ABC', u'PaymentTerm', u'SupplierClassification',\n",
      "       u'Category', u'PoPlacedDate', u'PoPlacedYear', u'Org_Code',\n",
      "       u'SupplierSite'],\n",
      "      dtype='object')\n",
      "Index([u'Supplier ID', u'PO Number', u'Line', u'Schedule', u'Revision',\n",
      "       u'Confirmed Dock Date', u'Part Number', u'Part Description',\n",
      "       u'Part Revision', u'Performance Date', u'Supplier Due Date',\n",
      "       u'Need Date', u'Order Date', u'Message', u'Qty Open', u'Unit Price',\n",
      "       u'Extended Price', u'Critical', u'VMI', u'Date Modified', u'Comments',\n",
      "       u'Harris Comments', u'Shipments', u'Business Unit Code'],\n",
      "      dtype='object')\n"
     ]
    }
   ],
   "source": [
    "import pandas as pd\n",
    "import numpy as np\n",
    "\n",
    "purchasing = pd.read_csv('original_data/Purchasing_Tool_FY16-FY18_2018-11-16.csv')\n",
    "expo = pd.read_csv('original_data/Expo_Archive_2018-11-16.csv')\n",
    "\n",
    "print purchasing.columns\n",
    "print expo.columns"
   ]
  },
  {
   "cell_type": "code",
   "execution_count": 233,
   "metadata": {
    "collapsed": false
   },
   "outputs": [],
   "source": [
    "# save dataframe with part number and category\n",
    "\n",
    "category = pd.DataFrame()\n",
    "\n",
    "category['Part Number'] = purchasing['Part']\n",
    "category['Category'] = purchasing['Category']\n",
    "\n",
    "category = category.drop_duplicates(subset = ['Part Number'])\n",
    "category = category.dropna()"
   ]
  },
  {
   "cell_type": "code",
   "execution_count": 234,
   "metadata": {
    "collapsed": false
   },
   "outputs": [],
   "source": [
    "# drop irrelevant features\n",
    "\n",
    "purchasing = purchasing.drop(['SupplierID', 'Shipment', 'PO', 'Line', 'Release','BuyerNumber', 'BuyProgram', 'BuyerName', 'Description', 'ReceiverNumber',\n",
    "                'Year', 'Period', 'Week', 'Qtr', 'CommodityLevel1', 'CommodityLevel2', 'CommodityLevel3',\n",
    "                'ForecastType', 'PaymentTerm', 'SupplierClassification', 'PoPlacedDate', 'PoPlacedYear',\n",
    "                'Org_Code', 'SupplierSite'], axis = 1)\n",
    "\n",
    "expo = expo.drop(['Revision', 'Part Description', 'PO Number', 'Line', 'Schedule', 'Revision','Part Revision', 'Supplier Due Date', 'Message', 'Qty Open', 'Unit Price',\n",
    "          'Extended Price', 'VMI', 'Date Modified', 'Comments', 'Harris Comments', 'Shipments', 'Business Unit Code']\n",
    "         , axis =1)\n"
   ]
  },
  {
   "cell_type": "code",
   "execution_count": 235,
   "metadata": {
    "collapsed": false
   },
   "outputs": [],
   "source": [
    "# fix dates in expo\n",
    "\n",
    "from datetime import datetime as dt\n",
    "def convert_to_date(s):\n",
    "    try: \n",
    "        return dt.date(dt.strptime(str(s)[:10], '%Y-%M-%d'))\n",
    "    except (TypeError, ValueError) as e:\n",
    "        return (pd.NaT)\n",
    "    \n",
    "def convert_to_date2(s):\n",
    "    try:\n",
    "        return dt.date(dt.strptime(str(s), '%m/%d/%Y'))\n",
    "    except (TypeError, ValueError) as e:\n",
    "        return (pd.NaT)\n",
    "    \n",
    "expo['Confirmed Dock Date'] = expo['Confirmed Dock Date'].apply(convert_to_date2)\n",
    "expo['Performance Date'] = expo['Performance Date'].apply(convert_to_date)\n",
    "expo['Need Date'] = expo['Need Date'].apply(convert_to_date)\n",
    "expo['Order Date'] = expo['Order Date'].apply(convert_to_date)\n"
   ]
  },
  {
   "cell_type": "code",
   "execution_count": 236,
   "metadata": {
    "collapsed": false
   },
   "outputs": [
    {
     "name": "stdout",
     "output_type": "stream",
     "text": [
      "Supplier ID            112819\n",
      "Confirmed Dock Date     83646\n",
      "Part Number             92442\n",
      "Performance Date       113194\n",
      "Need Date              109062\n",
      "Order Date             113194\n",
      "Critical               113194\n",
      "dtype: int64\n"
     ]
    }
   ],
   "source": [
    "# drop na in expo except in schedule\n",
    "\n",
    "print expo.count()\n",
    "\n",
    "expo = expo.dropna()\n",
    "expo = expo.reset_index(drop = True)"
   ]
  },
  {
   "cell_type": "code",
   "execution_count": 237,
   "metadata": {
    "collapsed": false
   },
   "outputs": [],
   "source": [
    "# engineer late and early columns in expo\n",
    "\n",
    "expo['temp_Late'] =  expo['Performance Date'] - expo['Confirmed Dock Date']\n",
    "expo['temp_Late'] = expo['temp_Late'].astype('timedelta64[D]')\n",
    "\n",
    "expo['Late'] = [i if i > 0 else 0 for i in expo['temp_Late']]\n",
    "expo['Early'] = [abs(i) if i < 0 else 0 for i in expo['temp_Late']]\n",
    "\n",
    "del expo['temp_Late']"
   ]
  },
  {
   "cell_type": "code",
   "execution_count": 238,
   "metadata": {
    "collapsed": false
   },
   "outputs": [
    {
     "name": "stdout",
     "output_type": "stream",
     "text": [
      "Supplier ID            135181\n",
      "StdCost                135181\n",
      "PoCost                 135181\n",
      "Part                   132601\n",
      "Qty                    135181\n",
      "InternalCostSavings    135181\n",
      "Spend                  135181\n",
      "PurchLeadTime          135181\n",
      "ABC                    131482\n",
      "Category               135181\n",
      "dtype: int64\n"
     ]
    }
   ],
   "source": [
    "# drop nas from purchasing tool\n",
    "\n",
    "print purchasing.count()\n",
    "\n",
    "purchasing = purchasing.dropna()\n",
    "purchasing = purchasing.reset_index(drop = True)"
   ]
  },
  {
   "cell_type": "code",
   "execution_count": 239,
   "metadata": {
    "collapsed": true
   },
   "outputs": [],
   "source": [
    "# fix purchase lead time codes\n",
    "\n",
    "purch_lead_time_dict = {240:183, 299:365 ,999:365, 365:274, 364:274, 350:274}\n",
    "purchasing['PurchLeadTime'] = [purch_lead_time_dict[i] if i in purch_lead_time_dict.keys() else i for i in purchasing['PurchLeadTime']]"
   ]
  },
  {
   "cell_type": "code",
   "execution_count": 240,
   "metadata": {
    "collapsed": true
   },
   "outputs": [],
   "source": [
    "# create return spend and return quantity columns. Zero out negatives in spend  and qty\n",
    "# transaction_type is 0 = return, 1 = order\n",
    "\n",
    "purchasing['transaction_type'] = [0 if d < 0 else 1 for d in purchasing['Spend']]\n",
    "\n",
    "purchasing['Return_spend'] = [0 if d >= 0 else abs(d) for d in purchasing['Spend']]\n",
    "purchasing['Spend'] = [d if d >= 0 else 0 for d in purchasing['Spend']]\n",
    "                       \n",
    "purchasing['Return_qty'] = [0 if d >= 0 else abs(d) for d in purchasing['Qty']]\n",
    "purchasing['Qty'] = [d if d >= 0 else 0 for d in purchasing['Qty']]"
   ]
  },
  {
   "cell_type": "code",
   "execution_count": 241,
   "metadata": {
    "collapsed": true
   },
   "outputs": [],
   "source": [
    "# add single/multi source column to p_tool as 'Source'.\n",
    "\n",
    "source = pd.DataFrame()\n",
    "\n",
    "source['Source'] = purchasing.groupby(['Part'])['Supplier ID'].apply(lambda x: x.drop_duplicates().count())\n",
    "#source['Source'] = [1 if (d == 1) else 0 for d in source['Source']]\n",
    "source['Part'] = source.index\n",
    "source.index = range(len(source))\n",
    "\n",
    "purchasing = purchasing.merge(source, on = ['Part'], how = 'left')"
   ]
  },
  {
   "cell_type": "code",
   "execution_count": 242,
   "metadata": {
    "collapsed": false
   },
   "outputs": [],
   "source": [
    "# transform ABC column in purchasing\n",
    "\n",
    "ABC_dict = {'A':0.7, 'B':0.5, 'C':0.3}\n",
    "purchasing['ABC'] = [ABC_dict[d] for d in purchasing['ABC']]"
   ]
  },
  {
   "cell_type": "code",
   "execution_count": 243,
   "metadata": {
    "collapsed": false
   },
   "outputs": [],
   "source": [
    "# drop early/late outliers\n",
    "\n",
    "expo = expo.drop(list(expo[expo['Late'] > 500].index), axis = 0)\n",
    "expo = expo.drop(list(expo[expo['Early'] > 500].index), axis = 0)\n",
    "expo = expo.reset_index(drop = True)"
   ]
  },
  {
   "cell_type": "code",
   "execution_count": 244,
   "metadata": {
    "collapsed": false
   },
   "outputs": [
    {
     "name": "stdout",
     "output_type": "stream",
     "text": [
      "Supplier ID            131482\n",
      "StdCost                131482\n",
      "PoCost                 131482\n",
      "Part                   131482\n",
      "Qty                    131482\n",
      "InternalCostSavings    131482\n",
      "Spend                  131482\n",
      "PurchLeadTime          131482\n",
      "ABC                    131482\n",
      "Category               131482\n",
      "transaction_type       131482\n",
      "Return_spend           131482\n",
      "Return_qty             131482\n",
      "Source                 131482\n",
      "dtype: int64\n",
      "Supplier ID            72327\n",
      "Confirmed Dock Date    72327\n",
      "Part Number            72327\n",
      "Performance Date       72327\n",
      "Need Date              72327\n",
      "Order Date             72327\n",
      "Critical               72327\n",
      "Late                   72327\n",
      "Early                  72327\n",
      "dtype: int64\n"
     ]
    }
   ],
   "source": [
    "print purchasing.count()\n",
    "print expo.count()"
   ]
  },
  {
   "cell_type": "code",
   "execution_count": 245,
   "metadata": {
    "collapsed": false
   },
   "outputs": [
    {
     "data": {
      "image/png": "[encoded data removed]",
      "text/plain": [
       "<matplotlib.figure.Figure at 0x113d7ae90>"
      ]
     },
     "metadata": {},
     "output_type": "display_data"
    },
    {
     "data": {
      "image/png": "[encoded data removed]",
      "text/plain": [
       "<matplotlib.figure.Figure at 0x111ef6710>"
      ]
     },
     "metadata": {},
     "output_type": "display_data"
    },
    {
     "data": {
      "image/png": "[encoded data removed]",
      "text/plain": [
       "<matplotlib.figure.Figure at 0x113d7a050>"
      ]
     },
     "metadata": {},
     "output_type": "display_data"
    },
    {
     "data": {
      "image/png": "[encoded data removed]",
      "text/plain": [
       "<matplotlib.figure.Figure at 0x1121d5dd0>"
      ]
     },
     "metadata": {},
     "output_type": "display_data"
    },
    {
     "data": {
      "image/png": "[encoded data removed]",
      "text/plain": [
       "<matplotlib.figure.Figure at 0x113d67610>"
      ]
     },
     "metadata": {},
     "output_type": "display_data"
    },
    {
     "data": {
      "image/png": "[encoded data removed]",
      "text/plain": [
       "<matplotlib.figure.Figure at 0x111ef4510>"
      ]
     },
     "metadata": {},
     "output_type": "display_data"
    },
    {
     "data": {
      "image/png": "[encoded data removed]",
      "text/plain": [
       "<matplotlib.figure.Figure at 0x112211a10>"
      ]
     },
     "metadata": {},
     "output_type": "display_data"
    },
    {
     "data": {
      "image/png": "[encoded data removed]",
      "text/plain": [
       "<matplotlib.figure.Figure at 0x1160a1190>"
      ]
     },
     "metadata": {},
     "output_type": "display_data"
    },
    {
     "data": {
      "image/png": "[encoded data removed]",
      "text/plain": [
       "<matplotlib.figure.Figure at 0x115394ed0>"
      ]
     },
     "metadata": {},
     "output_type": "display_data"
    },
    {
     "data": {
      "image/png": "[encoded data removed]",
      "text/plain": [
       "<matplotlib.figure.Figure at 0x11518e710>"
      ]
     },
     "metadata": {},
     "output_type": "display_data"
    },
    {
     "data": {
      "image/png": "[encoded data removed]",
      "text/plain": [
       "<matplotlib.figure.Figure at 0x10f824d90>"
      ]
     },
     "metadata": {},
     "output_type": "display_data"
    },
    {
     "data": {
      "image/png": "[encoded data removed]",
      "text/plain": [
       "<matplotlib.figure.Figure at 0x118df8d50>"
      ]
     },
     "metadata": {},
     "output_type": "display_data"
    },
    {
     "data": {
      "image/png": "[encoded data removed]",
      "text/plain": [
       "<matplotlib.figure.Figure at 0x117808850>"
      ]
     },
     "metadata": {},
     "output_type": "display_data"
    },
    {
     "data": {
      "image/png": "[encoded data removed]",
      "text/plain": [
       "<matplotlib.figure.Figure at 0x119b17590>"
      ]
     },
     "metadata": {},
     "output_type": "display_data"
    }
   ],
   "source": [
    "import matplotlib.pyplot as plt\n",
    "import numpy as np\n",
    "import math\n",
    "\n",
    "p_features = ['StdCost', 'PoCost', 'Qty',\n",
    "           'InternalCostSavings', 'Spend', 'PurchLeadTime', 'ABC',  \n",
    "            'transaction_type', 'Return_spend', 'Return_qty', 'Source']\n",
    "\n",
    "e_features = ['Late', 'Early', 'Critical']\n",
    "\n",
    "for feat in p_features:\n",
    "    plt.hist(purchasing[feat], bins = 15)\n",
    "    plt.title(feat)\n",
    "    plt.xlabel = (\"Value\")\n",
    "    plt.ylabel = (\"Count\")\n",
    "    #fname = \"distr/\" + feat + \"_distr\"\n",
    "    #plt.savefig(fname)\n",
    "    plt.show()\n",
    "    \n",
    "for feat in e_features:\n",
    "    plt.hist(expo[feat], bins = 15)\n",
    "    plt.title(feat)\n",
    "    plt.xlabel = (\"Value\")\n",
    "    plt.ylabel = (\"Count\")\n",
    "    #fname = \"distr/\" + feat + \"_distr\"\n",
    "    #plt.savefig(fname)\n",
    "    plt.show()\n"
   ]
  },
  {
   "cell_type": "code",
   "execution_count": 246,
   "metadata": {
    "collapsed": true
   },
   "outputs": [],
   "source": [
    "#bins \n",
    "\n",
    "# purchasing\n",
    "def bin_purchasing(d):\n",
    "    data = d.copy()\n",
    "    data['StdCost'] = pd.to_numeric(pd.cut(data['StdCost'], bins = [-1,1,5,50,100,10000000], labels = [1,2,3,4,5]))\n",
    "    data['PoCost'] = pd.to_numeric(pd.cut(data['PoCost'], bins = [-1,1,5,50,100,10000000], labels = [1,2,3,4,5]))\n",
    "    data['Qty'] = pd.to_numeric(pd.cut(data['Qty'], bins = [-1,50,150,500,5000,10000000], labels = [1,2,3,4,5]))\n",
    "    data['InternalCostSavings'] = pd.to_numeric(pd.cut(data['InternalCostSavings'], \n",
    "                                         bins = [-1000000,-100,-10,0,10,10000000], labels = [5,4,3,2,1]))\n",
    "    data['Spend'] = pd.to_numeric(pd.cut(data['Spend'], bins = [-1,2500,10000,50000,100000,100000000], \n",
    "                                         labels = [1,2,3,4,5]))\n",
    "    data['PurchLeadTime'] = pd.to_numeric(pd.cut(data['PurchLeadTime'], \n",
    "                                   bins = [-1,50,125,225,350,10000], labels = [1,2,3,4,5]))\n",
    "    data['ABC'] = pd.to_numeric(pd.cut(data['ABC'], bins = [0,0.4,0.6,1], labels = [1,3,5]))\n",
    "    data['transaction_type'] = pd.to_numeric(pd.cut(data['transaction_type'], bins = [-0.5,0.5,2], labels = [5,1]))\n",
    "    data['Return_spend'] = pd.to_numeric(pd.cut(data['Return_spend'], \n",
    "                                                bins = [-1,2500,10000,50000,100000,100000000], labels = [1,2,3,4,5]))\n",
    "    data['Return_qty'] = pd.to_numeric(pd.cut(data['Return_qty'], \n",
    "                                              bins = [-1,50,150,500,5000,10000000], labels = [1,2,3,4,5]))\n",
    "    data['Source'] = pd.to_numeric(pd.cut(data['Source'], bins = [-1,1.1,3.1,10], labels = [5,2,1]))\n",
    "\n",
    "    return data\n",
    "\n",
    "def bin_expo(d):\n",
    "    data = d.copy()\n",
    "    data['Late_bin'] = pd.to_numeric(pd.cut(data['Late'], bins = [-1,0.5,3,10,20,1000], labels = [1,2,3,4,5]))\n",
    "    data['Early_bin'] = pd.to_numeric(pd.cut(data['Early'], bins = [-1,0.5,3,10,20,1000], labels = [1,2,3,4,5]))\n",
    "    return data"
   ]
  },
  {
   "cell_type": "code",
   "execution_count": 247,
   "metadata": {
    "collapsed": false,
    "scrolled": true
   },
   "outputs": [
    {
     "name": "stdout",
     "output_type": "stream",
     "text": [
      "Supplier ID            131482\n",
      "StdCost                131482\n",
      "PoCost                 131482\n",
      "Part                   131482\n",
      "Qty                    131482\n",
      "InternalCostSavings    131482\n",
      "Spend                  131482\n",
      "PurchLeadTime          131482\n",
      "ABC                    131482\n",
      "Category               131482\n",
      "transaction_type       131482\n",
      "Return_spend           131482\n",
      "Return_qty             131482\n",
      "Source                 131482\n",
      "dtype: int64\n",
      "Supplier ID            72327\n",
      "Confirmed Dock Date    72327\n",
      "Part Number            72327\n",
      "Performance Date       72327\n",
      "Need Date              72327\n",
      "Order Date             72327\n",
      "Critical               72327\n",
      "Late                   72327\n",
      "Early                  72327\n",
      "Late_bin               72327\n",
      "Early_bin              72327\n",
      "dtype: int64\n"
     ]
    }
   ],
   "source": [
    "purch_binned = bin_purchasing(purchasing)\n",
    "expo_binned = bin_expo(expo)\n",
    "\n",
    "print purch_binned.count()\n",
    "print expo_binned.count()"
   ]
  },
  {
   "cell_type": "code",
   "execution_count": 248,
   "metadata": {
    "collapsed": true
   },
   "outputs": [],
   "source": [
    "# aggregate purchasing\n",
    "\n",
    "\n",
    "def purchasing_aggregate(data, groupby):\n",
    "    aggregate = pd.DataFrame()\n",
    "    \n",
    "    aggregate['mean_stdcost'] = data.groupby(groupby)['StdCost'].mean()\n",
    "    aggregate['median_stdcost'] = data.groupby(groupby)['StdCost'].median()\n",
    "    #aggregate['var_stdcost'] = data.groupby(groupby)['StdCost'].var()\n",
    "\n",
    "    aggregate['mean_pocost'] = data.groupby(groupby)['PoCost'].mean()\n",
    "    aggregate['median_pocost'] = data.groupby(groupby)['PoCost'].median()\n",
    "    #aggregate['var_log_pocost'] = data.groupby(groupby)['PoCost'].var()\n",
    "    \n",
    "    aggregate['mean_qty'] = data.groupby(groupby)['Qty'].mean()\n",
    "    aggregate['median_qty'] = data.groupby(groupby)['Qty'].median()\n",
    "    #aggregate['var_log_qty'] = data.groupby(groupby)['Qty'].var()\n",
    "    \n",
    "    aggregate['mean_return_qty'] = data.groupby(groupby)['Return_qty'].mean()\n",
    "    aggregate['median_return_qty'] = data.groupby(groupby)['Return_qty'].median()\n",
    "    #aggregate['var_log_return_qty'] = data.groupby(groupby)['Return_qty'].var()\n",
    "    \n",
    "    aggregate['mean_costsave'] = data.groupby(groupby)['InternalCostSavings'].mean()\n",
    "    aggregate['median_costsave'] = data.groupby(groupby)['InternalCostSavings'].median()\n",
    "    #aggregate['var_log_costsave'] = data.groupby(groupby)['InternalCostSavings'].var()\n",
    "    \n",
    "    aggregate['mean_spend'] = data.groupby(groupby)['Spend'].mean()\n",
    "    aggregate['median_spend'] = data.groupby(groupby)['Spend'].median()\n",
    "    #aggregate['var_log_spend'] = data.groupby(groupby)['Spend'].var()\n",
    "\n",
    "    aggregate['mean_return_spend'] = data.groupby(groupby)['Return_spend'].mean()\n",
    "    aggregate['median_return_spend'] = data.groupby(groupby)['Return_spend'].median()\n",
    "    #aggregate['var_log_return_spend'] = data.groupby(groupby)['Return_spend'].var()\n",
    "    \n",
    "    aggregate['mean_leadtime'] = data.groupby(groupby)['PurchLeadTime'].mean()\n",
    "    aggregate['median_leadtime'] = data.groupby(groupby)['PurchLeadTime'].median()\n",
    "    #aggregate['variance_log_leadtime'] = data.groupby(groupby)['PurchLeadTime'].var()\n",
    "    \n",
    "    aggregate['mean_abc'] = data.groupby(groupby)['ABC'].mean()\n",
    "    aggregate['median_abc'] = data.groupby(groupby)['ABC'].median()\n",
    "\n",
    "    \n",
    "    aggregate['mean_source'] = data.groupby(groupby)['Source'].mean()\n",
    "    aggregate['median_source'] = data.groupby(groupby)['Source'].median()\n",
    "\n",
    "\n",
    "    aggregate['num_orders_purch'] = data.groupby(groupby)['transaction_type'].apply(lambda x: x[x == 1].count())\n",
    "    aggregate['num_returns_purch'] = data.groupby(groupby)['transaction_type'].apply(lambda x: x[x == 5].count())\n",
    "\n",
    "    \n",
    "    aggregate['Supplier ID'] = aggregate.index\n",
    "    aggregate.index = range(len(aggregate))\n",
    "    \n",
    "    if 'Category' in groupby:\n",
    "        aggregate['Category'] = [d[1] for d in aggregate['Supplier ID']]\n",
    "        aggregate['Supplier ID'] = [d[0] for d in aggregate['Supplier ID']]\n",
    "    \n",
    "    return aggregate\n"
   ]
  },
  {
   "cell_type": "code",
   "execution_count": 249,
   "metadata": {
    "collapsed": true
   },
   "outputs": [],
   "source": [
    "# aggregate expo\n",
    "\n",
    "def expo_aggregate(data, groupby):\n",
    "    new_expo = pd.DataFrame()\n",
    "    \n",
    "    new_expo['mean_late'] = data.groupby(groupby)['Late_bin'].mean()\n",
    "    new_expo['median_late'] = data.groupby(groupby)['Late_bin'].median()\n",
    "\n",
    "    new_expo['mean_early'] = data.groupby(groupby)['Early_bin'].mean()\n",
    "    new_expo['median_early'] = data.groupby(groupby)['Early_bin'].mean()\n",
    "\n",
    "\n",
    "\n",
    "    new_expo['num_late'] = data.groupby(groupby)['Late'].apply(lambda x: x[x > 0].count())\n",
    "    new_expo['num_early'] = data.groupby(groupby)['Early'].apply(lambda x: x[x > 0].count())\n",
    "    new_expo['num_critical'] = data.groupby(groupby)['Critical'].apply(lambda x: x[x == True].count())\n",
    "    new_expo['num_transactions_expo'] = data.groupby(groupby)['Late'].count()\n",
    "\n",
    "\n",
    "    new_expo['%_late'] = new_expo['num_late'] / new_expo['num_transactions_expo']\n",
    "    new_expo['%_early'] = new_expo['num_early'] / new_expo['num_transactions_expo']\n",
    "    new_expo['%_critical'] = new_expo['num_critical'] / new_expo['num_transactions_expo']\n",
    "\n",
    "    new_expo = new_expo.drop(['num_late'], axis=1)\n",
    "    new_expo = new_expo.drop(['num_early'], axis=1)\n",
    "    new_expo = new_expo.drop(['num_critical'], axis=1)\n",
    "\n",
    "\n",
    "    new_expo['Supplier ID'] = new_expo.index\n",
    "    new_expo.index = range(len(new_expo))\n",
    "    \n",
    "    if 'Category' in groupby:\n",
    "        new_expo['Category'] = [d[1] for d in new_expo['Supplier ID']]\n",
    "        new_expo['Supplier ID'] = [d[0] for d in new_expo['Supplier ID']]\n",
    "    \n",
    "    return new_expo"
   ]
  },
  {
   "cell_type": "code",
   "execution_count": 250,
   "metadata": {
    "collapsed": false,
    "scrolled": true
   },
   "outputs": [],
   "source": [
    "# append 'Category' to expo\n",
    "\n",
    "expo_binned_aug = expo_binned.merge(category, on = ['Part Number'], how = 'left')\n",
    "expo_binned_aug = expo_binned_aug.dropna()"
   ]
  },
  {
   "cell_type": "code",
   "execution_count": 251,
   "metadata": {
    "collapsed": false,
    "scrolled": true
   },
   "outputs": [
    {
     "name": "stdout",
     "output_type": "stream",
     "text": [
      "mean_stdcost           1015\n",
      "median_stdcost         1015\n",
      "mean_pocost            1015\n",
      "median_pocost          1015\n",
      "mean_qty               1015\n",
      "median_qty             1015\n",
      "mean_return_qty        1015\n",
      "median_return_qty      1015\n",
      "mean_costsave          1015\n",
      "median_costsave        1015\n",
      "mean_spend             1015\n",
      "median_spend           1015\n",
      "mean_return_spend      1015\n",
      "median_return_spend    1015\n",
      "mean_leadtime          1015\n",
      "median_leadtime        1015\n",
      "mean_abc               1015\n",
      "median_abc             1015\n",
      "mean_source            1015\n",
      "median_source          1015\n",
      "num_orders_purch       1015\n",
      "num_returns_purch      1015\n",
      "Supplier ID            1015\n",
      "Category               1015\n",
      "dtype: int64\n",
      "mean_late                749\n",
      "median_late              749\n",
      "mean_early               749\n",
      "median_early             749\n",
      "num_transactions_expo    749\n",
      "%_late                   749\n",
      "%_early                  749\n",
      "%_critical               749\n",
      "Supplier ID              749\n",
      "Category                 749\n",
      "dtype: int64\n"
     ]
    }
   ],
   "source": [
    "agg_purch = purchasing_aggregate(purch_binned, ['Supplier ID', 'Category'])\n",
    "\n",
    "agg_expo = expo_aggregate(expo_binned_aug, ['Supplier ID', 'Category'])\n",
    "\n",
    "print agg_purch.count()\n",
    "print agg_expo.count()\n"
   ]
  },
  {
   "cell_type": "code",
   "execution_count": 252,
   "metadata": {
    "collapsed": true
   },
   "outputs": [],
   "source": [
    "# second round of binning for expo\n",
    "\n",
    "def bin_expo2(d):\n",
    "    data = d.copy()\n",
    "    data['%Late'] = pd.to_numeric(pd.cut(data['%_late'], bins = [-1,0.2,0.4,0.6,0.8,1.1], labels = [1,2,3,4,5]))\n",
    "    data['%Early'] = pd.to_numeric(pd.cut(data['%_early'], bins = [-1,0.2,0.4,0.6,0.8,1.1], labels = [1,2,3,4,5]))\n",
    "    data['%Critical'] = pd.to_numeric(pd.cut(data['%_critical'], bins = [-1,0.2,0.4,0.6,0.8,1.1], labels = [1,2,3,4,5]))\n",
    "    return data"
   ]
  },
  {
   "cell_type": "code",
   "execution_count": 253,
   "metadata": {
    "collapsed": false
   },
   "outputs": [],
   "source": [
    "agg_expo_bin = bin_expo2(agg_expo)\n",
    "\n",
    "del agg_expo_bin['%_late']\n",
    "del agg_expo_bin['%_early']\n",
    "del agg_expo_bin['%_critical']\n"
   ]
  },
  {
   "cell_type": "code",
   "execution_count": 254,
   "metadata": {
    "collapsed": false,
    "scrolled": true
   },
   "outputs": [
    {
     "name": "stdout",
     "output_type": "stream",
     "text": [
      "mean_stdcost             594\n",
      "median_stdcost           594\n",
      "mean_pocost              594\n",
      "median_pocost            594\n",
      "mean_qty                 594\n",
      "median_qty               594\n",
      "mean_return_qty          594\n",
      "median_return_qty        594\n",
      "mean_costsave            594\n",
      "median_costsave          594\n",
      "mean_spend               594\n",
      "median_spend             594\n",
      "mean_return_spend        594\n",
      "median_return_spend      594\n",
      "mean_leadtime            594\n",
      "median_leadtime          594\n",
      "mean_abc                 594\n",
      "median_abc               594\n",
      "mean_source              594\n",
      "median_source            594\n",
      "num_orders_purch         594\n",
      "num_returns_purch        594\n",
      "Supplier ID              594\n",
      "Category                 594\n",
      "mean_late                594\n",
      "median_late              594\n",
      "mean_early               594\n",
      "median_early             594\n",
      "num_transactions_expo    594\n",
      "%Late                    594\n",
      "%Early                   594\n",
      "%Critical                594\n",
      "dtype: int64\n"
     ]
    },
    {
     "data": {
      "text/html": [
       "<div>\n",
       "<table border=\"1\" class=\"dataframe\">\n",
       "  <thead>\n",
       "    <tr style=\"text-align: right;\">\n",
       "      <th></th>\n",
       "      <th>mean_stdcost</th>\n",
       "      <th>median_stdcost</th>\n",
       "      <th>mean_pocost</th>\n",
       "      <th>median_pocost</th>\n",
       "      <th>mean_qty</th>\n",
       "      <th>median_qty</th>\n",
       "      <th>mean_return_qty</th>\n",
       "      <th>median_return_qty</th>\n",
       "      <th>mean_costsave</th>\n",
       "      <th>median_costsave</th>\n",
       "      <th>...</th>\n",
       "      <th>Supplier ID</th>\n",
       "      <th>Category</th>\n",
       "      <th>mean_late</th>\n",
       "      <th>median_late</th>\n",
       "      <th>mean_early</th>\n",
       "      <th>median_early</th>\n",
       "      <th>num_transactions_expo</th>\n",
       "      <th>%Late</th>\n",
       "      <th>%Early</th>\n",
       "      <th>%Critical</th>\n",
       "    </tr>\n",
       "  </thead>\n",
       "  <tbody>\n",
       "    <tr>\n",
       "      <th>0</th>\n",
       "      <td>2.250000</td>\n",
       "      <td>2.0</td>\n",
       "      <td>2.000000</td>\n",
       "      <td>2.0</td>\n",
       "      <td>2.937500</td>\n",
       "      <td>3.0</td>\n",
       "      <td>1.375000</td>\n",
       "      <td>1.0</td>\n",
       "      <td>3.750000</td>\n",
       "      <td>5.0</td>\n",
       "      <td>...</td>\n",
       "      <td>S002</td>\n",
       "      <td>Fabrication</td>\n",
       "      <td>1.0</td>\n",
       "      <td>1</td>\n",
       "      <td>5.0</td>\n",
       "      <td>5.0</td>\n",
       "      <td>10</td>\n",
       "      <td>1</td>\n",
       "      <td>5</td>\n",
       "      <td>1</td>\n",
       "    </tr>\n",
       "    <tr>\n",
       "      <th>1</th>\n",
       "      <td>3.000000</td>\n",
       "      <td>3.0</td>\n",
       "      <td>3.000000</td>\n",
       "      <td>3.0</td>\n",
       "      <td>2.357143</td>\n",
       "      <td>2.0</td>\n",
       "      <td>1.000000</td>\n",
       "      <td>1.0</td>\n",
       "      <td>3.142857</td>\n",
       "      <td>3.0</td>\n",
       "      <td>...</td>\n",
       "      <td>S006</td>\n",
       "      <td>Cable/Conn/Wire</td>\n",
       "      <td>1.0</td>\n",
       "      <td>1</td>\n",
       "      <td>5.0</td>\n",
       "      <td>5.0</td>\n",
       "      <td>6</td>\n",
       "      <td>1</td>\n",
       "      <td>5</td>\n",
       "      <td>1</td>\n",
       "    </tr>\n",
       "    <tr>\n",
       "      <th>2</th>\n",
       "      <td>4.888889</td>\n",
       "      <td>5.0</td>\n",
       "      <td>4.888889</td>\n",
       "      <td>5.0</td>\n",
       "      <td>1.888889</td>\n",
       "      <td>1.0</td>\n",
       "      <td>1.000000</td>\n",
       "      <td>1.0</td>\n",
       "      <td>2.222222</td>\n",
       "      <td>2.0</td>\n",
       "      <td>...</td>\n",
       "      <td>S008</td>\n",
       "      <td>Accessories/OEM</td>\n",
       "      <td>1.0</td>\n",
       "      <td>1</td>\n",
       "      <td>5.0</td>\n",
       "      <td>5.0</td>\n",
       "      <td>9</td>\n",
       "      <td>1</td>\n",
       "      <td>5</td>\n",
       "      <td>2</td>\n",
       "    </tr>\n",
       "    <tr>\n",
       "      <th>3</th>\n",
       "      <td>2.894737</td>\n",
       "      <td>3.0</td>\n",
       "      <td>2.894737</td>\n",
       "      <td>3.0</td>\n",
       "      <td>2.771930</td>\n",
       "      <td>3.0</td>\n",
       "      <td>1.087719</td>\n",
       "      <td>1.0</td>\n",
       "      <td>3.421053</td>\n",
       "      <td>3.0</td>\n",
       "      <td>...</td>\n",
       "      <td>S010</td>\n",
       "      <td>Fabrication</td>\n",
       "      <td>1.0</td>\n",
       "      <td>1</td>\n",
       "      <td>5.0</td>\n",
       "      <td>5.0</td>\n",
       "      <td>1</td>\n",
       "      <td>1</td>\n",
       "      <td>5</td>\n",
       "      <td>5</td>\n",
       "    </tr>\n",
       "    <tr>\n",
       "      <th>4</th>\n",
       "      <td>2.735294</td>\n",
       "      <td>3.0</td>\n",
       "      <td>2.794118</td>\n",
       "      <td>3.0</td>\n",
       "      <td>1.970588</td>\n",
       "      <td>2.0</td>\n",
       "      <td>1.176471</td>\n",
       "      <td>1.0</td>\n",
       "      <td>3.411765</td>\n",
       "      <td>5.0</td>\n",
       "      <td>...</td>\n",
       "      <td>S012</td>\n",
       "      <td>Raw PCB</td>\n",
       "      <td>1.0</td>\n",
       "      <td>1</td>\n",
       "      <td>4.8</td>\n",
       "      <td>4.8</td>\n",
       "      <td>20</td>\n",
       "      <td>1</td>\n",
       "      <td>5</td>\n",
       "      <td>1</td>\n",
       "    </tr>\n",
       "  </tbody>\n",
       "</table>\n",
       "<p>5 rows × 32 columns</p>\n",
       "</div>"
      ],
      "text/plain": [
       "   mean_stdcost  median_stdcost  mean_pocost  median_pocost  mean_qty  \\\n",
       "0      2.250000             2.0     2.000000            2.0  2.937500   \n",
       "1      3.000000             3.0     3.000000            3.0  2.357143   \n",
       "2      4.888889             5.0     4.888889            5.0  1.888889   \n",
       "3      2.894737             3.0     2.894737            3.0  2.771930   \n",
       "4      2.735294             3.0     2.794118            3.0  1.970588   \n",
       "\n",
       "   median_qty  mean_return_qty  median_return_qty  mean_costsave  \\\n",
       "0         3.0         1.375000                1.0       3.750000   \n",
       "1         2.0         1.000000                1.0       3.142857   \n",
       "2         1.0         1.000000                1.0       2.222222   \n",
       "3         3.0         1.087719                1.0       3.421053   \n",
       "4         2.0         1.176471                1.0       3.411765   \n",
       "\n",
       "   median_costsave    ...      Supplier ID         Category  mean_late  \\\n",
       "0              5.0    ...             S002      Fabrication        1.0   \n",
       "1              3.0    ...             S006  Cable/Conn/Wire        1.0   \n",
       "2              2.0    ...             S008  Accessories/OEM        1.0   \n",
       "3              3.0    ...             S010      Fabrication        1.0   \n",
       "4              5.0    ...             S012          Raw PCB        1.0   \n",
       "\n",
       "   median_late  mean_early  median_early  num_transactions_expo  %Late  \\\n",
       "0            1         5.0           5.0                     10      1   \n",
       "1            1         5.0           5.0                      6      1   \n",
       "2            1         5.0           5.0                      9      1   \n",
       "3            1         5.0           5.0                      1      1   \n",
       "4            1         4.8           4.8                     20      1   \n",
       "\n",
       "   %Early  %Critical  \n",
       "0       5          1  \n",
       "1       5          1  \n",
       "2       5          2  \n",
       "3       5          5  \n",
       "4       5          1  \n",
       "\n",
       "[5 rows x 32 columns]"
      ]
     },
     "execution_count": 254,
     "metadata": {},
     "output_type": "execute_result"
    }
   ],
   "source": [
    "# join\n",
    "\n",
    "join = agg_purch.merge(agg_expo_bin, on = ['Supplier ID', 'Category'], how = 'inner')\n",
    "\n",
    "print join.count()\n",
    "\n",
    "join.head()"
   ]
  },
  {
   "cell_type": "code",
   "execution_count": 255,
   "metadata": {
    "collapsed": true
   },
   "outputs": [],
   "source": [
    "join.to_csv(\"join.csv\", index = False)\n"
   ]
  },
  {
   "cell_type": "code",
   "execution_count": null,
   "metadata": {
    "collapsed": true
   },
   "outputs": [],
   "source": []
  }
 ],
 "metadata": {
  "kernelspec": {
   "display_name": "Python 2",
   "language": "python",
   "name": "python2"
  },
  "language_info": {
   "codemirror_mode": {
    "name": "ipython",
    "version": 2
   },
   "file_extension": ".py",
   "mimetype": "text/x-python",
   "name": "python",
   "nbconvert_exporter": "python",
   "pygments_lexer": "ipython2",
   "version": "2.7.13"
  }
 },
 "nbformat": 4,
 "nbformat_minor": 2
}
