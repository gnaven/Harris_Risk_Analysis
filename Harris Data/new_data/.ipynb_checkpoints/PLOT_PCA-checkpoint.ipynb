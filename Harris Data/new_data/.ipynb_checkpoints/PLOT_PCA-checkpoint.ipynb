{
 "cells": [
  {
   "cell_type": "code",
   "execution_count": 1,
   "metadata": {},
   "outputs": [
    {
     "name": "stdout",
     "output_type": "stream",
     "text": [
      "['mean_unexpcost', 'median_unexpcost', 'mean_stdcost', 'median_stdcost', 'mean_pocost', 'median_pocost', 'mean_qty', 'median_qty', 'mean_costsave', 'median_costsave', 'mean_spend', 'median_spend', 'mean_return_spend', 'median_return_spend', 'mean_leadtime', 'median_leadtime', 'mean_abc', 'median_abc', 'mean_source', 'median_source', 'Category', 'mean_late', 'median_late', 'mean_early', 'median_early', '%Critical', 'SupplierID', 'quality_risk_mean', 'quality_risk_median', 'delivery_risk_mean', 'delivery_risk_median']\n"
     ]
    }
   ],
   "source": [
    "#Import data\n",
    "import pandas as pd\n",
    "DATAFILE = \"./prepared_data/join_three_scale.csv\"\n",
    "Purchase_DF = pd.read_csv(DATAFILE)\n",
    "print(list(Purchase_DF))\n",
    "# Purchase_DF"
   ]
  },
  {
   "cell_type": "code",
   "execution_count": 2,
   "metadata": {},
   "outputs": [],
   "source": [
    "#Select features\n",
    "PCA_feats = ['mean_unexpcost', 'mean_return_spend', 'mean_qty', 'mean_costsave', 'mean_spend',\n",
    "             'mean_leadtime','mean_abc', 'mean_source',\n",
    "             'mean_late', 'mean_early','%Critical', 'quality_risk_mean', 'delivery_risk_mean']\n",
    "# PCA_feats = ['mean_unexpcost', 'mean_return_spend','mean_spend',\n",
    "#              'mean_late', 'mean_early','%Critical', 'quality_risk_mean', 'delivery_risk_mean']\n",
    "Purch_PCA = Purchase_DF[PCA_feats]\n",
    "Purch_PCA = Purch_PCA.dropna()\n",
    "x = Purch_PCA"
   ]
  },
  {
   "cell_type": "code",
   "execution_count": 3,
   "metadata": {},
   "outputs": [],
   "source": [
    "%matplotlib inline\n",
    "import numpy as np\n",
    "import matplotlib.pyplot as plt\n",
    "import seaborn as sns; sns.set()"
   ]
  },
  {
   "cell_type": "code",
   "execution_count": 4,
   "metadata": {},
   "outputs": [
    {
     "name": "stdout",
     "output_type": "stream",
     "text": [
      "     mean_unexpcost  mean_return_spend  mean_qty  mean_costsave  mean_spend  \\\n",
      "0          2.000000           1.000000  2.000000       2.285714    1.142857   \n",
      "1          1.700000           1.200000  1.900000       1.900000    1.600000   \n",
      "2          2.000000           1.000000  2.000000       2.000000    1.000000   \n",
      "3          1.868421           1.036842  1.078947       2.873684    1.910526   \n",
      "4          1.888889           1.000000  2.481481       1.666667    1.814815   \n",
      "5          1.894737           1.000000  1.105263       1.368421    1.631579   \n",
      "6          1.222222           1.000000  1.000000       2.166667    1.000000   \n",
      "7          1.200000           1.000000  1.100000       2.000000    1.000000   \n",
      "8          2.000000           1.000000  1.000000       2.000000    1.000000   \n",
      "9          1.333333           1.000000  1.000000       2.000000    2.000000   \n",
      "10         1.818182           1.090909  1.181818       1.954545    1.045455   \n",
      "11         2.000000           1.000000  1.517241       2.655172    1.517241   \n",
      "12         1.833333           1.000000  2.333333       1.500000    1.000000   \n",
      "13         1.588235           1.117647  1.882353       1.352941    1.000000   \n",
      "14         1.881628           1.028360  1.868064       1.963009    1.014797   \n",
      "15         1.833333           1.000000  2.666667       1.500000    1.333333   \n",
      "16         2.000000           1.042553  1.957447       2.000000    1.957447   \n",
      "17         1.833333           1.000000  1.000000       2.000000    1.166667   \n",
      "18         1.958175           1.000000  1.847909       1.935361    1.064639   \n",
      "19         1.860000           1.060000  1.820000       1.980000    1.020000   \n",
      "20         1.666667           1.000000  1.888889       2.111111    1.000000   \n",
      "21         2.000000           1.088235  1.882353       1.823529    1.852941   \n",
      "22         1.333333           1.222222  1.888889       1.222222    2.000000   \n",
      "23         1.666667           1.000000  1.666667       1.333333    1.666667   \n",
      "24         2.000000           1.000000  2.000000       2.000000    1.000000   \n",
      "25         2.000000           1.000000  2.500000       2.500000    1.500000   \n",
      "26         2.000000           1.000000  2.000000       2.250000    1.000000   \n",
      "27         1.285714           1.000000  1.857143       1.571429    1.000000   \n",
      "28         1.375000           1.000000  1.000000       2.000000    1.125000   \n",
      "29         2.000000           1.000000  1.000000       2.000000    1.000000   \n",
      "..              ...                ...       ...            ...         ...   \n",
      "548        2.000000           1.000000  2.000000       2.000000    1.000000   \n",
      "549        1.852941           1.264706  1.588235       2.176471    1.147059   \n",
      "550        1.684211           1.100000  1.152632       2.126316    1.568421   \n",
      "551        2.000000           1.000000  1.000000       2.000000    1.000000   \n",
      "552        1.958333           1.000000  1.000000       2.000000    1.875000   \n",
      "553        1.000000           1.000000  2.000000       1.000000    2.000000   \n",
      "554        1.964286           1.011905  1.392857       2.011905    1.000000   \n",
      "555        1.818008           1.009579  1.297893       2.005747    1.024904   \n",
      "556        2.000000           1.000000  1.000000       2.000000    1.000000   \n",
      "557        2.000000           1.000000  1.000000       2.000000    1.000000   \n",
      "558        1.857143           1.000000  1.071429       2.000000    1.000000   \n",
      "559        1.428571           1.571429  1.285714       2.428571    1.714286   \n",
      "560        1.705882           1.117647  1.176471       2.000000    1.000000   \n",
      "561        2.000000           1.000000  1.937500       1.937500    1.437500   \n",
      "562        2.000000           1.163265  1.000000       2.000000    1.938776   \n",
      "563        1.909091           1.000000  2.060606       1.848485    1.090909   \n",
      "564        1.875000           1.028846  1.951923       2.028846    1.028846   \n",
      "565        2.000000           1.111111  1.333333       2.000000    1.000000   \n",
      "566        1.437500           1.125000  1.250000       2.000000    1.562500   \n",
      "567        2.181818           1.727273  1.181818       2.090909    1.636364   \n",
      "568        1.666667           1.000000  2.000000       1.666667    1.000000   \n",
      "569        1.603774           1.037736  1.518868       2.000000    1.509434   \n",
      "570        2.000000           1.000000  1.909091       2.000000    1.545455   \n",
      "571        2.000000           1.000000  1.000000       2.500000    1.000000   \n",
      "572        1.344828           1.103448  1.862069       1.379310    1.379310   \n",
      "573        1.241935           1.032258  1.967742       1.419355    1.032258   \n",
      "574        2.076923           1.000000  2.230769       2.538462    1.307692   \n",
      "575        2.000000           1.125000  1.083333       2.458333    1.750000   \n",
      "576        1.400000           1.133333  1.200000       2.000000    1.733333   \n",
      "577        1.000000           1.000000  3.000000       1.000000    1.000000   \n",
      "\n",
      "     mean_leadtime  mean_abc  mean_source  mean_late  mean_early  %Critical  \\\n",
      "0         2.000000  1.000000     3.000000   1.000000    3.000000          1   \n",
      "1         2.000000  1.400000     3.000000   1.500000    2.500000          1   \n",
      "2         1.000000  1.000000     3.000000   1.000000    3.000000          3   \n",
      "3         2.000000  2.484211     2.842105   1.075472    2.867925          2   \n",
      "4         1.259259  2.703704     1.296296   1.000000    3.000000          1   \n",
      "5         2.000000  1.578947     3.000000   1.000000    2.600000          1   \n",
      "6         1.888889  1.000000     3.000000   1.000000    3.000000          1   \n",
      "7         2.000000  1.000000     3.000000   1.000000    3.000000          1   \n",
      "8         2.000000  1.000000     3.000000   1.000000    3.000000          1   \n",
      "9         1.000000  1.000000     1.000000   1.000000    3.000000          2   \n",
      "10        1.545455  1.045455     1.818182   1.000000    3.000000          1   \n",
      "11        1.000000  2.965517     3.000000   1.000000    2.739130          1   \n",
      "12        1.000000  1.000000     3.000000   1.000000    2.714286          1   \n",
      "13        1.411765  1.000000     2.176471   1.000000    3.000000          1   \n",
      "14        1.278668  1.087546     2.800247   1.000000    2.869863          1   \n",
      "15        1.000000  2.000000     3.000000   1.000000    3.000000          1   \n",
      "16        1.127660  2.489362     3.000000   1.000000    3.000000          1   \n",
      "17        1.666667  1.000000     3.000000   1.000000    3.000000          1   \n",
      "18        1.015209  1.110266     2.908745   1.000000    2.962264          1   \n",
      "19        1.020000  1.000000     2.000000   1.000000    2.636364          1   \n",
      "20        1.222222  1.000000     2.777778   1.000000    3.000000          1   \n",
      "21        2.000000  2.764706     3.000000   1.090909    2.727273          2   \n",
      "22        2.000000  1.000000     3.000000   1.000000    3.000000          1   \n",
      "23        2.000000  1.666667     1.000000   1.000000    3.000000          1   \n",
      "24        2.000000  2.000000     1.000000   1.000000    3.000000          1   \n",
      "25        2.000000  3.000000     1.000000   1.000000    3.000000          1   \n",
      "26        2.250000  1.250000     1.000000   1.000000    3.000000          1   \n",
      "27        2.000000  2.142857     2.714286   1.000000    3.000000          1   \n",
      "28        1.125000  1.000000     2.000000   1.000000    2.500000          2   \n",
      "29        2.000000  1.000000     3.000000   1.000000    3.000000          1   \n",
      "..             ...       ...          ...        ...         ...        ...   \n",
      "548       2.000000  1.000000     1.000000   1.000000    3.000000          1   \n",
      "549       2.000000  1.264706     1.000000   1.000000    2.900000          1   \n",
      "550       1.968421  1.805263     1.294737   1.000000    2.970149          1   \n",
      "551       2.000000  1.000000     3.000000   1.000000    3.000000          1   \n",
      "552       2.000000  2.083333     1.583333   1.000000    3.000000          1   \n",
      "553       1.000000  1.000000     1.000000   1.000000    3.000000          1   \n",
      "554       1.000000  1.000000     2.309524   1.000000    2.900000          1   \n",
      "555       1.039272  1.058429     1.394636   1.004862    2.857374          1   \n",
      "556       1.600000  1.000000     2.600000   1.000000    3.000000          1   \n",
      "557       1.000000  1.000000     1.000000   1.000000    3.000000          1   \n",
      "558       1.142857  1.000000     2.000000   1.000000    2.600000          1   \n",
      "559       2.000000  1.000000     3.000000   1.000000    3.000000          1   \n",
      "560       1.000000  1.705882     3.000000   1.000000    3.000000          2   \n",
      "561       2.000000  1.000000     1.000000   1.000000    3.000000          1   \n",
      "562       2.000000  3.000000     3.000000   1.000000    3.000000          2   \n",
      "563       1.000000  3.000000     3.000000   1.000000    3.000000          1   \n",
      "564       1.024038  1.379808     1.163462   1.000000    3.000000          2   \n",
      "565       1.000000  1.444444     1.000000   1.000000    3.000000          1   \n",
      "566       2.000000  2.750000     1.000000   1.000000    3.000000          1   \n",
      "567       1.909091  2.818182     1.000000   1.000000    3.000000          3   \n",
      "568       1.000000  1.333333     1.000000   1.000000    3.000000          1   \n",
      "569       1.716981  2.547170     1.075472   1.000000    3.000000          2   \n",
      "570       1.818182  2.636364     1.363636   1.000000    3.000000          1   \n",
      "571       2.000000  1.000000     3.000000   1.000000    3.000000          1   \n",
      "572       2.000000  3.000000     1.000000   1.000000    2.600000          1   \n",
      "573       1.306452  1.193548     1.129032   1.000000    3.000000          1   \n",
      "574       2.307692  1.692308     1.461538   1.000000    3.000000          1   \n",
      "575       2.000000  2.958333     1.083333   1.000000    3.000000          1   \n",
      "576       2.000000  3.000000     1.000000   1.000000    3.000000          1   \n",
      "577       2.400000  1.100000     2.600000   1.000000    3.000000          1   \n",
      "\n",
      "     quality_risk_mean  delivery_risk_mean  \n",
      "0             1.000000            1.000000  \n",
      "1             1.000000            1.000000  \n",
      "2             1.000000            1.000000  \n",
      "3             1.043478            1.782609  \n",
      "4             1.000000            1.250000  \n",
      "5             1.000000            1.352941  \n",
      "6             1.000000            1.352941  \n",
      "7             1.375000            2.291667  \n",
      "8             1.375000            2.291667  \n",
      "9             1.375000            2.291667  \n",
      "10            1.375000            2.291667  \n",
      "11            1.000000            1.791667  \n",
      "12            1.000000            1.791667  \n",
      "13            1.000000            1.791667  \n",
      "14            1.000000            1.791667  \n",
      "15            1.000000            1.791667  \n",
      "16            1.000000            1.666667  \n",
      "17            1.000000            1.500000  \n",
      "18            1.083333            1.416667  \n",
      "19            1.083333            1.416667  \n",
      "20            1.083333            1.416667  \n",
      "21            1.000000            1.538462  \n",
      "22            1.000000            1.538462  \n",
      "23            1.000000            1.000000  \n",
      "24            1.000000            1.000000  \n",
      "25            1.000000            1.000000  \n",
      "26            1.000000            1.000000  \n",
      "27            1.000000            1.000000  \n",
      "28            1.458333            2.041667  \n",
      "29            1.458333            2.041667  \n",
      "..                 ...                 ...  \n",
      "548           1.000000            1.666667  \n",
      "549           2.000000            3.000000  \n",
      "550           1.363636            2.090909  \n",
      "551           1.363636            2.090909  \n",
      "552           1.181818            1.181818  \n",
      "553           1.000000            1.400000  \n",
      "554           1.041667            1.083333  \n",
      "555           1.041667            1.083333  \n",
      "556           1.041667            1.083333  \n",
      "557           1.041667            1.083333  \n",
      "558           1.041667            1.083333  \n",
      "559           1.666667            2.111111  \n",
      "560           1.666667            2.111111  \n",
      "561           1.000000            1.700000  \n",
      "562           1.166667            1.000000  \n",
      "563           1.055556            1.777778  \n",
      "564           1.055556            1.777778  \n",
      "565           1.000000            1.000000  \n",
      "566           1.000000            1.000000  \n",
      "567           1.250000            1.250000  \n",
      "568           1.000000            1.000000  \n",
      "569           1.222222            2.777778  \n",
      "570           1.000000            1.000000  \n",
      "571           3.000000            1.000000  \n",
      "572           1.000000            1.500000  \n",
      "573           1.000000            1.875000  \n",
      "574           1.000000            1.200000  \n",
      "575           1.000000            1.000000  \n",
      "576           1.000000            1.666667  \n",
      "577           1.000000            3.000000  \n",
      "\n",
      "[578 rows x 13 columns]\n"
     ]
    }
   ],
   "source": [
    "x = Purch_PCA\n",
    "print(x)\n",
    "# X\n",
    "# print(X[1,0])"
   ]
  },
  {
   "cell_type": "code",
   "execution_count": 5,
   "metadata": {},
   "outputs": [
    {
     "name": "stderr",
     "output_type": "stream",
     "text": [
      "C:\\ProgramData\\Anaconda3\\lib\\site-packages\\ipykernel_launcher.py:3: FutureWarning: Method .as_matrix will be removed in a future version. Use .values instead.\n",
      "  This is separate from the ipykernel package so we can avoid doing imports until\n"
     ]
    },
    {
     "data": {
      "image/png": "[encoded data removed]",
      "text/plain": [
       "<Figure size 432x288 with 1 Axes>"
      ]
     },
     "metadata": {},
     "output_type": "display_data"
    }
   ],
   "source": [
    "# rng = np.random.RandomState(1)\n",
    "# X = np.dot(rng.rand(2, 2), rng.randn(2, 200)).T\n",
    "X = Purch_PCA.as_matrix()\n",
    "plt.scatter(X[:, 0], X[:, 1])\n",
    "plt.axis('equal');"
   ]
  },
  {
   "cell_type": "code",
   "execution_count": 6,
   "metadata": {},
   "outputs": [
    {
     "name": "stdout",
     "output_type": "stream",
     "text": [
      "[[-8.42616697e-02 -2.90857985e-03  4.86289850e-02 -6.59803803e-02\n",
      "  -4.95448155e-02  2.61039098e-02 -6.10243829e-02 -9.85538212e-01\n",
      "  -3.14688362e-03  8.36095748e-03 -6.57500545e-02 -8.20999269e-03\n",
      "   5.96439071e-02]\n",
      " [-4.18427502e-02  2.27161427e-02  6.64551967e-02 -1.59818550e-03\n",
      "   3.35765871e-01  1.85789752e-01  8.97448993e-01 -7.07933475e-02\n",
      "  -9.67001736e-04  3.89015692e-02  1.82536718e-01  2.35603373e-03\n",
      "   2.81406761e-02]]\n",
      "[0.69612786 0.47457118]\n"
     ]
    }
   ],
   "source": [
    "from sklearn.decomposition import PCA\n",
    "pca = PCA(n_components=2)\n",
    "pca.fit(X)\n",
    "print(pca.components_)\n",
    "print(pca.explained_variance_)"
   ]
  },
  {
   "cell_type": "code",
   "execution_count": 7,
   "metadata": {},
   "outputs": [
    {
     "name": "stdout",
     "output_type": "stream",
     "text": [
      "original shape:    (578, 13)\n",
      "transformed shape: (578, 2)\n"
     ]
    }
   ],
   "source": [
    "# pca=PCA_method(Purch_PCA) \n",
    "pca = PCA(n_components=2)\n",
    "pca.fit(X)\n",
    "X_pca = pca.transform(X)\n",
    "print(\"original shape:   \", X.shape)\n",
    "print(\"transformed shape:\", X_pca.shape)"
   ]
  },
  {
   "cell_type": "code",
   "execution_count": 8,
   "metadata": {},
   "outputs": [
    {
     "data": {
      "image/png": "[encoded data removed]",
      "text/plain": [
       "<Figure size 432x288 with 1 Axes>"
      ]
     },
     "metadata": {},
     "output_type": "display_data"
    }
   ],
   "source": [
    "X_new = pca.inverse_transform(X_pca)\n",
    "plt.scatter(X[:, 0], X[:, 1], alpha=0.2)\n",
    "plt.scatter(X_new[:, 0], X_new[:, 1], alpha=0.8)\n",
    "plt.axis('equal');"
   ]
  },
  {
   "cell_type": "code",
   "execution_count": 9,
   "metadata": {},
   "outputs": [
    {
     "name": "stdout",
     "output_type": "stream",
     "text": [
      "original shape:    (578, 13)\n",
      "transformed shape: (578, 1)\n"
     ]
    }
   ],
   "source": [
    "pca = PCA(n_components=1)\n",
    "pca.fit(X)\n",
    "X_pca = pca.transform(X)\n",
    "print(\"original shape:   \", X.shape)\n",
    "print(\"transformed shape:\", X_pca.shape)"
   ]
  },
  {
   "cell_type": "code",
   "execution_count": 10,
   "metadata": {},
   "outputs": [
    {
     "data": {
      "image/png": "[encoded data removed]",
      "text/plain": [
       "<Figure size 432x288 with 1 Axes>"
      ]
     },
     "metadata": {},
     "output_type": "display_data"
    }
   ],
   "source": [
    "X_new = pca.inverse_transform(X_pca)\n",
    "plt.scatter(X[:, 0], X[:, 1], alpha=0.2)\n",
    "plt.scatter(X_new[:, 0], X_new[:, 1], alpha=0.8)\n",
    "plt.axis('equal');"
   ]
  },
  {
   "cell_type": "code",
   "execution_count": 11,
   "metadata": {},
   "outputs": [
    {
     "data": {
      "text/plain": [
       "(1797, 64)"
      ]
     },
     "execution_count": 11,
     "metadata": {},
     "output_type": "execute_result"
    }
   ],
   "source": [
    "from sklearn.datasets import load_digits\n",
    "digits = load_digits()\n",
    "digits.data.shape"
   ]
  },
  {
   "cell_type": "code",
   "execution_count": 12,
   "metadata": {},
   "outputs": [
    {
     "name": "stdout",
     "output_type": "stream",
     "text": [
      "(1797, 64)\n",
      "(1797, 2)\n"
     ]
    }
   ],
   "source": [
    "pca = PCA(2)  # project from 64 to 2 dimensions\n",
    "projected = pca.fit_transform(digits.data)\n",
    "print(digits.data.shape)\n",
    "print(projected.shape)"
   ]
  },
  {
   "cell_type": "code",
   "execution_count": null,
   "metadata": {},
   "outputs": [],
   "source": []
  },
  {
   "cell_type": "code",
   "execution_count": 13,
   "metadata": {},
   "outputs": [
    {
     "ename": "ValueError",
     "evalue": "c of shape (578,) not acceptable as a color sequence for x with size 1797, y with size 1797",
     "output_type": "error",
     "traceback": [
      "\u001b[1;31m---------------------------------------------------------------------------\u001b[0m",
      "\u001b[1;31mKeyError\u001b[0m                                  Traceback (most recent call last)",
      "\u001b[1;32mC:\\ProgramData\\Anaconda3\\lib\\site-packages\\matplotlib\\colors.py\u001b[0m in \u001b[0;36mto_rgba\u001b[1;34m(c, alpha)\u001b[0m\n\u001b[0;32m    165\u001b[0m     \u001b[1;32mtry\u001b[0m\u001b[1;33m:\u001b[0m\u001b[1;33m\u001b[0m\u001b[0m\n\u001b[1;32m--> 166\u001b[1;33m         \u001b[0mrgba\u001b[0m \u001b[1;33m=\u001b[0m \u001b[0m_colors_full_map\u001b[0m\u001b[1;33m.\u001b[0m\u001b[0mcache\u001b[0m\u001b[1;33m[\u001b[0m\u001b[0mc\u001b[0m\u001b[1;33m,\u001b[0m \u001b[0malpha\u001b[0m\u001b[1;33m]\u001b[0m\u001b[1;33m\u001b[0m\u001b[0m\n\u001b[0m\u001b[0;32m    167\u001b[0m     \u001b[1;32mexcept\u001b[0m \u001b[1;33m(\u001b[0m\u001b[0mKeyError\u001b[0m\u001b[1;33m,\u001b[0m \u001b[0mTypeError\u001b[0m\u001b[1;33m)\u001b[0m\u001b[1;33m:\u001b[0m  \u001b[1;31m# Not in cache, or unhashable.\u001b[0m\u001b[1;33m\u001b[0m\u001b[0m\n",
      "\u001b[1;31mKeyError\u001b[0m: (2.0, None)",
      "\nDuring handling of the above exception, another exception occurred:\n",
      "\u001b[1;31mValueError\u001b[0m                                Traceback (most recent call last)",
      "\u001b[1;32mC:\\ProgramData\\Anaconda3\\lib\\site-packages\\matplotlib\\axes\\_axes.py\u001b[0m in \u001b[0;36mscatter\u001b[1;34m(self, x, y, s, c, marker, cmap, norm, vmin, vmax, alpha, linewidths, verts, edgecolors, **kwargs)\u001b[0m\n\u001b[0;32m   4273\u001b[0m                 \u001b[1;31m# must be acceptable as PathCollection facecolors\u001b[0m\u001b[1;33m\u001b[0m\u001b[1;33m\u001b[0m\u001b[0m\n\u001b[1;32m-> 4274\u001b[1;33m                 \u001b[0mcolors\u001b[0m \u001b[1;33m=\u001b[0m \u001b[0mmcolors\u001b[0m\u001b[1;33m.\u001b[0m\u001b[0mto_rgba_array\u001b[0m\u001b[1;33m(\u001b[0m\u001b[0mc\u001b[0m\u001b[1;33m)\u001b[0m\u001b[1;33m\u001b[0m\u001b[0m\n\u001b[0m\u001b[0;32m   4275\u001b[0m             \u001b[1;32mexcept\u001b[0m \u001b[0mValueError\u001b[0m\u001b[1;33m:\u001b[0m\u001b[1;33m\u001b[0m\u001b[0m\n",
      "\u001b[1;32mC:\\ProgramData\\Anaconda3\\lib\\site-packages\\matplotlib\\colors.py\u001b[0m in \u001b[0;36mto_rgba_array\u001b[1;34m(c, alpha)\u001b[0m\n\u001b[0;32m    266\u001b[0m     \u001b[1;32mfor\u001b[0m \u001b[0mi\u001b[0m\u001b[1;33m,\u001b[0m \u001b[0mcc\u001b[0m \u001b[1;32min\u001b[0m \u001b[0menumerate\u001b[0m\u001b[1;33m(\u001b[0m\u001b[0mc\u001b[0m\u001b[1;33m)\u001b[0m\u001b[1;33m:\u001b[0m\u001b[1;33m\u001b[0m\u001b[0m\n\u001b[1;32m--> 267\u001b[1;33m         \u001b[0mresult\u001b[0m\u001b[1;33m[\u001b[0m\u001b[0mi\u001b[0m\u001b[1;33m]\u001b[0m \u001b[1;33m=\u001b[0m \u001b[0mto_rgba\u001b[0m\u001b[1;33m(\u001b[0m\u001b[0mcc\u001b[0m\u001b[1;33m,\u001b[0m \u001b[0malpha\u001b[0m\u001b[1;33m)\u001b[0m\u001b[1;33m\u001b[0m\u001b[0m\n\u001b[0m\u001b[0;32m    268\u001b[0m     \u001b[1;32mreturn\u001b[0m \u001b[0mresult\u001b[0m\u001b[1;33m\u001b[0m\u001b[0m\n",
      "\u001b[1;32mC:\\ProgramData\\Anaconda3\\lib\\site-packages\\matplotlib\\colors.py\u001b[0m in \u001b[0;36mto_rgba\u001b[1;34m(c, alpha)\u001b[0m\n\u001b[0;32m    167\u001b[0m     \u001b[1;32mexcept\u001b[0m \u001b[1;33m(\u001b[0m\u001b[0mKeyError\u001b[0m\u001b[1;33m,\u001b[0m \u001b[0mTypeError\u001b[0m\u001b[1;33m)\u001b[0m\u001b[1;33m:\u001b[0m  \u001b[1;31m# Not in cache, or unhashable.\u001b[0m\u001b[1;33m\u001b[0m\u001b[0m\n\u001b[1;32m--> 168\u001b[1;33m         \u001b[0mrgba\u001b[0m \u001b[1;33m=\u001b[0m \u001b[0m_to_rgba_no_colorcycle\u001b[0m\u001b[1;33m(\u001b[0m\u001b[0mc\u001b[0m\u001b[1;33m,\u001b[0m \u001b[0malpha\u001b[0m\u001b[1;33m)\u001b[0m\u001b[1;33m\u001b[0m\u001b[0m\n\u001b[0m\u001b[0;32m    169\u001b[0m         \u001b[1;32mtry\u001b[0m\u001b[1;33m:\u001b[0m\u001b[1;33m\u001b[0m\u001b[0m\n",
      "\u001b[1;32mC:\\ProgramData\\Anaconda3\\lib\\site-packages\\matplotlib\\colors.py\u001b[0m in \u001b[0;36m_to_rgba_no_colorcycle\u001b[1;34m(c, alpha)\u001b[0m\n\u001b[0;32m    218\u001b[0m         \u001b[1;31m# Test dimensionality to reject single floats.\u001b[0m\u001b[1;33m\u001b[0m\u001b[1;33m\u001b[0m\u001b[0m\n\u001b[1;32m--> 219\u001b[1;33m         \u001b[1;32mraise\u001b[0m \u001b[0mValueError\u001b[0m\u001b[1;33m(\u001b[0m\u001b[1;34m\"Invalid RGBA argument: {!r}\"\u001b[0m\u001b[1;33m.\u001b[0m\u001b[0mformat\u001b[0m\u001b[1;33m(\u001b[0m\u001b[0morig_c\u001b[0m\u001b[1;33m)\u001b[0m\u001b[1;33m)\u001b[0m\u001b[1;33m\u001b[0m\u001b[0m\n\u001b[0m\u001b[0;32m    220\u001b[0m     \u001b[1;31m# Return a tuple to prevent the cached value from being modified.\u001b[0m\u001b[1;33m\u001b[0m\u001b[1;33m\u001b[0m\u001b[0m\n",
      "\u001b[1;31mValueError\u001b[0m: Invalid RGBA argument: 2.0",
      "\nDuring handling of the above exception, another exception occurred:\n",
      "\u001b[1;31mValueError\u001b[0m                                Traceback (most recent call last)",
      "\u001b[1;32m<ipython-input-13-3f3cde8502b4>\u001b[0m in \u001b[0;36m<module>\u001b[1;34m()\u001b[0m\n\u001b[0;32m      2\u001b[0m     plt.scatter(projected[:, 0], projected[:, 1],\n\u001b[0;32m      3\u001b[0m                 \u001b[0mc\u001b[0m\u001b[1;33m=\u001b[0m\u001b[0mx\u001b[0m\u001b[1;33m[\u001b[0m\u001b[0mfeat\u001b[0m\u001b[1;33m]\u001b[0m\u001b[1;33m,\u001b[0m \u001b[0medgecolor\u001b[0m\u001b[1;33m=\u001b[0m\u001b[1;34m'none'\u001b[0m\u001b[1;33m,\u001b[0m \u001b[0malpha\u001b[0m\u001b[1;33m=\u001b[0m\u001b[1;36m0.5\u001b[0m\u001b[1;33m,\u001b[0m\u001b[1;33m\u001b[0m\u001b[0m\n\u001b[1;32m----> 4\u001b[1;33m                 cmap=plt.cm.get_cmap('BuGn', 10))\n\u001b[0m\u001b[0;32m      5\u001b[0m     \u001b[0mplt\u001b[0m\u001b[1;33m.\u001b[0m\u001b[0mxlabel\u001b[0m\u001b[1;33m(\u001b[0m\u001b[1;34m'component 1'\u001b[0m\u001b[1;33m)\u001b[0m\u001b[1;33m\u001b[0m\u001b[0m\n\u001b[0;32m      6\u001b[0m     \u001b[0mplt\u001b[0m\u001b[1;33m.\u001b[0m\u001b[0mylabel\u001b[0m\u001b[1;33m(\u001b[0m\u001b[1;34m'component 2'\u001b[0m\u001b[1;33m)\u001b[0m\u001b[1;33m\u001b[0m\u001b[0m\n",
      "\u001b[1;32mC:\\ProgramData\\Anaconda3\\lib\\site-packages\\matplotlib\\pyplot.py\u001b[0m in \u001b[0;36mscatter\u001b[1;34m(x, y, s, c, marker, cmap, norm, vmin, vmax, alpha, linewidths, verts, edgecolors, hold, data, **kwargs)\u001b[0m\n\u001b[0;32m   3468\u001b[0m                          \u001b[0mvmin\u001b[0m\u001b[1;33m=\u001b[0m\u001b[0mvmin\u001b[0m\u001b[1;33m,\u001b[0m \u001b[0mvmax\u001b[0m\u001b[1;33m=\u001b[0m\u001b[0mvmax\u001b[0m\u001b[1;33m,\u001b[0m \u001b[0malpha\u001b[0m\u001b[1;33m=\u001b[0m\u001b[0malpha\u001b[0m\u001b[1;33m,\u001b[0m\u001b[1;33m\u001b[0m\u001b[0m\n\u001b[0;32m   3469\u001b[0m                          \u001b[0mlinewidths\u001b[0m\u001b[1;33m=\u001b[0m\u001b[0mlinewidths\u001b[0m\u001b[1;33m,\u001b[0m \u001b[0mverts\u001b[0m\u001b[1;33m=\u001b[0m\u001b[0mverts\u001b[0m\u001b[1;33m,\u001b[0m\u001b[1;33m\u001b[0m\u001b[0m\n\u001b[1;32m-> 3470\u001b[1;33m                          edgecolors=edgecolors, data=data, **kwargs)\n\u001b[0m\u001b[0;32m   3471\u001b[0m     \u001b[1;32mfinally\u001b[0m\u001b[1;33m:\u001b[0m\u001b[1;33m\u001b[0m\u001b[0m\n\u001b[0;32m   3472\u001b[0m         \u001b[0max\u001b[0m\u001b[1;33m.\u001b[0m\u001b[0m_hold\u001b[0m \u001b[1;33m=\u001b[0m \u001b[0mwashold\u001b[0m\u001b[1;33m\u001b[0m\u001b[0m\n",
      "\u001b[1;32mC:\\ProgramData\\Anaconda3\\lib\\site-packages\\matplotlib\\__init__.py\u001b[0m in \u001b[0;36minner\u001b[1;34m(ax, *args, **kwargs)\u001b[0m\n\u001b[0;32m   1853\u001b[0m                         \u001b[1;34m\"the Matplotlib list!)\"\u001b[0m \u001b[1;33m%\u001b[0m \u001b[1;33m(\u001b[0m\u001b[0mlabel_namer\u001b[0m\u001b[1;33m,\u001b[0m \u001b[0mfunc\u001b[0m\u001b[1;33m.\u001b[0m\u001b[0m__name__\u001b[0m\u001b[1;33m)\u001b[0m\u001b[1;33m,\u001b[0m\u001b[1;33m\u001b[0m\u001b[0m\n\u001b[0;32m   1854\u001b[0m                         RuntimeWarning, stacklevel=2)\n\u001b[1;32m-> 1855\u001b[1;33m             \u001b[1;32mreturn\u001b[0m \u001b[0mfunc\u001b[0m\u001b[1;33m(\u001b[0m\u001b[0max\u001b[0m\u001b[1;33m,\u001b[0m \u001b[1;33m*\u001b[0m\u001b[0margs\u001b[0m\u001b[1;33m,\u001b[0m \u001b[1;33m**\u001b[0m\u001b[0mkwargs\u001b[0m\u001b[1;33m)\u001b[0m\u001b[1;33m\u001b[0m\u001b[0m\n\u001b[0m\u001b[0;32m   1856\u001b[0m \u001b[1;33m\u001b[0m\u001b[0m\n\u001b[0;32m   1857\u001b[0m         inner.__doc__ = _add_data_doc(inner.__doc__,\n",
      "\u001b[1;32mC:\\ProgramData\\Anaconda3\\lib\\site-packages\\matplotlib\\axes\\_axes.py\u001b[0m in \u001b[0;36mscatter\u001b[1;34m(self, x, y, s, c, marker, cmap, norm, vmin, vmax, alpha, linewidths, verts, edgecolors, **kwargs)\u001b[0m\n\u001b[0;32m   4277\u001b[0m                 raise ValueError(\"c of shape {} not acceptable as a color \"\n\u001b[0;32m   4278\u001b[0m                                  \u001b[1;34m\"sequence for x with size {}, y with size {}\"\u001b[0m\u001b[1;33m\u001b[0m\u001b[0m\n\u001b[1;32m-> 4279\u001b[1;33m                                  .format(c.shape, x.size, y.size))\n\u001b[0m\u001b[0;32m   4280\u001b[0m         \u001b[1;32melse\u001b[0m\u001b[1;33m:\u001b[0m\u001b[1;33m\u001b[0m\u001b[0m\n\u001b[0;32m   4281\u001b[0m             \u001b[0mcolors\u001b[0m \u001b[1;33m=\u001b[0m \u001b[1;32mNone\u001b[0m  \u001b[1;31m# use cmap, norm after collection is created\u001b[0m\u001b[1;33m\u001b[0m\u001b[0m\n",
      "\u001b[1;31mValueError\u001b[0m: c of shape (578,) not acceptable as a color sequence for x with size 1797, y with size 1797"
     ]
    },
    {
     "data": {
      "image/png": "[encoded data removed]",
      "text/plain": [
       "<Figure size 432x288 with 1 Axes>"
      ]
     },
     "metadata": {},
     "output_type": "display_data"
    }
   ],
   "source": [
    "for feat in PCA_feats:\n",
    "    plt.scatter(projected[:, 0], projected[:, 1],\n",
    "                c=x[feat], edgecolor='none', alpha=0.5,\n",
    "                cmap=plt.cm.get_cmap('BuGn', 10))\n",
    "    plt.xlabel('component 1')\n",
    "    plt.ylabel('component 2')\n",
    "    plt.title(feat)\n",
    "    plt.colorbar();\n",
    "    fname = \"PCA_1_2_\" + feat\n",
    "    plt.savefig(fname)\n",
    "    plt.show()"
   ]
  },
  {
   "cell_type": "code",
   "execution_count": null,
   "metadata": {},
   "outputs": [],
   "source": [
    "# pca = PCA(2)  # project from 64 to 2 dimensions\n",
    "# projected = pca.fit_transform(x)\n",
    "# print(x.shape)\n",
    "# print(projected.shape)\n",
    "# print(digits.target)"
   ]
  },
  {
   "cell_type": "code",
   "execution_count": null,
   "metadata": {},
   "outputs": [],
   "source": [
    "# plt.scatter(projected[:, 0], projected[:, 1],\n",
    "#             c=x['%Critical'], edgecolor='none', alpha=0.5,\n",
    "#             cmap=plt.cm.get_cmap('winter', 10))\n",
    "# plt.xlabel('component 1')\n",
    "# plt.ylabel('component 2')\n",
    "# plt.colorbar();"
   ]
  },
  {
   "cell_type": "code",
   "execution_count": null,
   "metadata": {},
   "outputs": [],
   "source": [
    "# rng = np.random.RandomState(1)\n",
    "# X = np.dot(rng.rand(2, 2), rng.randn(2, 200)).T\n",
    "# plt.scatter(X[:, 0], X[:, 1])\n",
    "# plt.axis('equal');\n",
    "\n",
    "# X = x.values\n",
    "# from sklearn.decomposition import PCA\n",
    "# pca = PCA(n_components=2)\n",
    "# pca.fit(X)"
   ]
  },
  {
   "cell_type": "code",
   "execution_count": null,
   "metadata": {},
   "outputs": [],
   "source": []
  },
  {
   "cell_type": "code",
   "execution_count": null,
   "metadata": {},
   "outputs": [],
   "source": [
    "# def draw_vector(v0, v1, ax=None):\n",
    "#     ax = ax or plt.gca()\n",
    "#     arrowprops=dict(arrowstyle='->',\n",
    "#                     linewidth=2,\n",
    "#                     shrinkA=0, shrinkB=0)\n",
    "#     ax.annotate('', v1, v0, arrowprops=arrowprops)\n",
    "\n",
    "# q= pca.mean_\n",
    "# type(q)\n",
    "# print(q[0])\n",
    "# # # plot data\n",
    "# plt.scatter(X[:, 0], X[:, 1], alpha=0.2)\n",
    "# for length, vector in zip(pca.explained_variance_, pca.components_):\n",
    "#     v = vector * 3 * np.sqrt(length)\n",
    "#     draw_vector(pca.mean_, pca.mean_ + v)\n",
    "# plt.axis('equal');"
   ]
  },
  {
   "cell_type": "code",
   "execution_count": null,
   "metadata": {},
   "outputs": [],
   "source": []
  },
  {
   "cell_type": "code",
   "execution_count": null,
   "metadata": {},
   "outputs": [],
   "source": []
  },
  {
   "cell_type": "code",
   "execution_count": null,
   "metadata": {},
   "outputs": [],
   "source": []
  },
  {
   "cell_type": "code",
   "execution_count": null,
   "metadata": {},
   "outputs": [],
   "source": []
  },
  {
   "cell_type": "code",
   "execution_count": null,
   "metadata": {},
   "outputs": [],
   "source": []
  },
  {
   "cell_type": "code",
   "execution_count": null,
   "metadata": {},
   "outputs": [],
   "source": []
  }
 ],
 "metadata": {
  "kernelspec": {
   "display_name": "Python 3",
   "language": "python",
   "name": "python3"
  },
  "language_info": {
   "codemirror_mode": {
    "name": "ipython",
    "version": 3
   },
   "file_extension": ".py",
   "mimetype": "text/x-python",
   "name": "python",
   "nbconvert_exporter": "python",
   "pygments_lexer": "ipython3",
   "version": "3.6.5"
  }
 },
 "nbformat": 4,
 "nbformat_minor": 2
}
