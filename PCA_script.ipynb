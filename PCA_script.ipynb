{
 "cells": [
  {
   "cell_type": "code",
   "execution_count": 9,
   "metadata": {
    "collapsed": false
   },
   "outputs": [],
   "source": [
    "import pandas as pd\n",
    "DATAFILE = \"../data/PurchasingTool FY16-FY18.xlsx\"\n",
    "Purchase_DF = pd.read_excel(DATAFILE)"
   ]
  },
  {
   "cell_type": "code",
   "execution_count": 10,
   "metadata": {
    "collapsed": false
   },
   "outputs": [],
   "source": [
    "PCA_feats = ['StdCost', 'PoCost', 'Qty', 'InternalCostSavings', 'PurchLeadTime', 'Spend', 'ABC']\n",
    "Purch_PCA = Purchase_DF[PCA_feats]\n",
    "Purch_PCA = Purch_PCA.dropna()"
   ]
  },
  {
   "cell_type": "code",
   "execution_count": 11,
   "metadata": {
    "collapsed": true
   },
   "outputs": [],
   "source": [
    "ABC_dict = {'A':1, 'B':2, 'C':3}\n",
    "Purch_PCA['ABC'] = [ABC_dict[i] for i in Purch_PCA['ABC']]\n"
   ]
  },
  {
   "cell_type": "code",
   "execution_count": 12,
   "metadata": {
    "collapsed": false
   },
   "outputs": [],
   "source": [
    "from sklearn.preprocessing import scale\n",
    "Purch_PCA = scale(Purch_PCA)"
   ]
  },
  {
   "cell_type": "code",
   "execution_count": 19,
   "metadata": {
    "collapsed": false
   },
   "outputs": [],
   "source": [
    "from sklearn.decomposition import PCA\n",
    "import numpy as np\n",
    "def PCA_method(data):\n",
    "    pca_model = PCA()\n",
    "    pca_fit = pca_model.fit(data)\n",
    "    print(\"explained variance\")\n",
    "    print(pca_fit.explained_variance_ratio_)\n",
    "    var_sum = sum(pca_fit.explained_variance_ratio_)\n",
    "    print([p for p in pca_fit.explained_variance_ratio_])\n",
    "    \n",
    "    print(\"components\")\n",
    "    # matrix of size n_components X n_features\n",
    "    # a_i,j tells how much the jth feature contributed to the ith component\n",
    "    comp = pca_fit.components_\n",
    "    print(comp)\n",
    "    # summing along columns tells how much each feature contributes overall\n",
    "    comp_sum = np.sum(comp, axis = 0)\n",
    "    print(comp_sum)\n",
    "    return comp"
   ]
  },
  {
   "cell_type": "code",
   "execution_count": 20,
   "metadata": {
    "collapsed": false
   },
   "outputs": [
    {
     "name": "stdout",
     "output_type": "stream",
     "text": [
      "explained variance\n",
      "[ 0.30058613  0.18588271  0.16178145  0.12607179  0.11650984  0.10796916\n",
      "  0.00119893]\n",
      "[0.30058612779647881, 0.18588271233445189, 0.16178144998169375, 0.12607178822211734, 0.11650983769078289, 0.107969157658589, 0.0011989263158862504]\n",
      "components\n",
      "[[  6.65808260e-01   6.66620842e-01  -5.29501675e-02   1.00755692e-01\n",
      "   -6.72241802e-02   2.84091533e-01  -1.18884378e-01]\n",
      " [  1.26024643e-01   1.25102036e-01   5.14050280e-01  -7.38714087e-02\n",
      "    5.94788246e-01  -8.28169820e-02   5.81490227e-01]\n",
      " [ -1.68421929e-01  -1.66309622e-01   1.42246588e-01   7.62730955e-01\n",
      "    8.49305304e-02   5.77291872e-01   3.87744899e-02]\n",
      " [ -2.37063274e-02  -2.25865956e-02   8.34383246e-01  -1.68614325e-01\n",
      "   -3.37425678e-01   7.97659096e-02  -3.92534043e-01]\n",
      " [ -6.50462332e-02  -6.22380132e-02  -8.90021556e-02  -2.83693750e-01\n",
      "    6.84749299e-01   2.98583987e-01  -5.87756659e-01]\n",
      " [ -9.14718745e-02  -8.50998919e-02  -9.27238074e-02  -5.41955972e-01\n",
      "   -2.27501457e-01   6.95434208e-01   3.83002968e-01]\n",
      " [  7.06605334e-01  -7.07588530e-01  -8.71949895e-05  -1.89341995e-03\n",
      "   -2.32299243e-04   4.86904485e-03  -1.41975505e-04]]\n",
      "[ 1.14979187 -0.25209977  1.25591679 -0.20654223  0.73208446  1.85721957\n",
      " -0.09604937]\n"
     ]
    }
   ],
   "source": [
    "comp=PCA_method(Purch_PCA) "
   ]
  },
  {
   "cell_type": "code",
   "execution_count": 23,
   "metadata": {
    "collapsed": false
   },
   "outputs": [],
   "source": [
    "import matplotlib.pyplot as plt"
   ]
  },
  {
   "cell_type": "code",
   "execution_count": 36,
   "metadata": {
    "collapsed": true
   },
   "outputs": [],
   "source": [
    "#['StdCost', 'PoCost', 'Qty', 'InternalCostSavings', 'PurchLeadTime', 'Spend', 'ABC']\n",
    "stdcost = [i[0] for i in comp]\n",
    "pocost = [i[1] for i in comp]\n",
    "qty = [i[2] for i in comp]\n",
    "ICS = [i[3] for i in comp]\n",
    "PLT = [i[4] for i in comp]\n",
    "spend = [i[5] for i in comp]\n",
    "ABC = [i[6] for i in comp]"
   ]
  },
  {
   "cell_type": "code",
   "execution_count": 56,
   "metadata": {
    "collapsed": false
   },
   "outputs": [
    {
     "data": {
      "image/png": "[encoded data removed]",
      "text/plain": [
       "<matplotlib.figure.Figure at 0x213d98e4b38>"
      ]
     },
     "metadata": {},
     "output_type": "display_data"
    }
   ],
   "source": [
    "index = np.arange(7)\n",
    "error_config = {'ecolor': '0.3'}\n",
    "bw = 0.5\n",
    "op=0.9\n",
    "plt.figure(figsize=(30,5))\n",
    "rects1 = plt.bar(index, stdcost, bw,\n",
    "                 alpha=op,\n",
    "                 color='b',\n",
    "                 error_kw=error_config,\n",
    "                 label='Std Cost')\n",
    "rects2 = plt.bar(index, pocost,bw,\n",
    "                 alpha=op,\n",
    "                 color='r',\n",
    "                 error_kw=error_config,\n",
    "                 label='Po Cost')\n",
    "rects3 = plt.bar(index, qty, bw,\n",
    "                 alpha=op,\n",
    "                 color='orange',\n",
    "                 error_kw=error_config,\n",
    "                 label='Qty')\n",
    "rects4 = plt.bar(index, ICS, bw,\n",
    "                 alpha=op,\n",
    "                 color='g',\n",
    "                 error_kw=error_config,\n",
    "                 label='Internal Cost Savings')\n",
    "rects5 = plt.bar(index, PLT, bw,\n",
    "                 alpha=op,\n",
    "                 color='c',\n",
    "                 error_kw=error_config,\n",
    "                 label='Purchase Lead Time')\n",
    "rects6 = plt.bar(index, spend, bw,\n",
    "                 alpha=op,\n",
    "                 color='y',\n",
    "                 error_kw=error_config,\n",
    "                 label='Spend')\n",
    "rects7 = plt.bar(index, ABC, bw,\n",
    "                 alpha=op,\n",
    "                 color='pink',\n",
    "                 error_kw=error_config,\n",
    "                 label='ABC')\n",
    "plt.legend()\n",
    "plt.show()\n"
   ]
  },
  {
   "cell_type": "markdown",
   "metadata": {},
   "source": [
    "#### Tsne"
   ]
  },
  {
   "cell_type": "code",
   "execution_count": 53,
   "metadata": {
    "collapsed": true
   },
   "outputs": [],
   "source": [
    "def Labels_to_color (df, classif,label_col):\n",
    "    \"\"\"\n",
    "    For a dataframe (df) and its classification (classif) it \n",
    "    turns each class label to numerical values and returns the dataframe\n",
    "    \"\"\"\n",
    "    \n",
    "    ClassList= df[classif].unique()\n",
    "    id = 0\n",
    "    color = ['b', 'g', 'r', 'y',  'w', 'c']\n",
    "\n",
    "    marker = ['o','x','+','^','s','v']\n",
    "    ClassDict = {}\n",
    "    for ClassVal in ClassList:\n",
    "        \n",
    "        ClassDict[ClassVal]= color[id]\n",
    "        id = id+1\n",
    "    print(ClassDict)\n",
    "    for ClassNum in ClassDict.keys():\n",
    "        df.ix[df[classif]==ClassNum,label_col] = ClassDict[ClassNum]\n",
    "        print (ClassDict[ClassNum])\n",
    "    df=df.drop(classif,axis =1)\n",
    "    print(df[label_col].unique())\n",
    "        \n",
    "    return df"
   ]
  },
  {
   "cell_type": "code",
   "execution_count": null,
   "metadata": {
    "collapsed": true
   },
   "outputs": [],
   "source": []
  }
 ],
 "metadata": {
  "anaconda-cloud": {},
  "kernelspec": {
   "display_name": "Python [default]",
   "language": "python",
   "name": "python3"
  },
  "language_info": {
   "codemirror_mode": {
    "name": "ipython",
    "version": 3
   },
   "file_extension": ".py",
   "mimetype": "text/x-python",
   "name": "python",
   "nbconvert_exporter": "python",
   "pygments_lexer": "ipython3",
   "version": "3.5.2"
  }
 },
 "nbformat": 4,
 "nbformat_minor": 2
}
