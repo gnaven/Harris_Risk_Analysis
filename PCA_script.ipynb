{
 "cells": [
  {
   "cell_type": "code",
   "execution_count": 45,
   "metadata": {
    "collapsed": true
   },
   "outputs": [],
   "source": [
    "import pandas as pd\n",
    "DATAFILE = \"data/PurchasingTool FY16-FY18(3).xlsx\"\n",
    "Purchase_DF = pd.read_excel(DATAFILE)"
   ]
  },
  {
   "cell_type": "code",
   "execution_count": 46,
   "metadata": {
    "collapsed": false
   },
   "outputs": [],
   "source": [
    "PCA_feats = ['StdCost', 'PoCost', 'Qty', 'InternalCostSavings', 'PurchLeadTime', 'Spend', 'ABC']\n",
    "Purch_PCA = Purchase_DF[PCA_feats]\n",
    "Purch_PCA = Purch_PCA.dropna()"
   ]
  },
  {
   "cell_type": "code",
   "execution_count": 47,
   "metadata": {
    "collapsed": true
   },
   "outputs": [],
   "source": [
    "ABC_dict = {'A':1, 'B':2, 'C':3}\n",
    "Purch_PCA['ABC'] = [ABC_dict[i] for i in Purch_PCA['ABC']]\n"
   ]
  },
  {
   "cell_type": "code",
   "execution_count": 48,
   "metadata": {
    "collapsed": false
   },
   "outputs": [],
   "source": [
    "from sklearn.preprocessing import scale\n",
    "Purch_PCA = scale(Purch_PCA)"
   ]
  },
  {
   "cell_type": "code",
   "execution_count": 49,
   "metadata": {
    "collapsed": false
   },
   "outputs": [],
   "source": [
    "from sklearn.decomposition import PCA\n",
    "import numpy as np\n",
    "def PCA_method(data):\n",
    "    pca_model = PCA()\n",
    "    pca_fit = pca_model.fit(data)\n",
    "    print \"explained variance\"\n",
    "    print pca_fit.explained_variance_ratio_\n",
    "    var_sum = sum(pca_fit.explained_variance_ratio_)\n",
    "    print [p for p in pca_fit.explained_variance_ratio_]\n",
    "    \n",
    "    print \"components\"\n",
    "    # matrix of size n_components X n_features\n",
    "    # a_i,j tells how much the jth feature contributed to the ith component\n",
    "    comp = pca_fit.components_\n",
    "    print comp\n",
    "    # summing along columns tells how much each feature contributes overall\n",
    "    comp_sum = np.sum(comp, axis = 0)\n",
    "    print comp_sum"
   ]
  },
  {
   "cell_type": "code",
   "execution_count": 50,
   "metadata": {
    "collapsed": false
   },
   "outputs": [
    {
     "name": "stdout",
     "output_type": "stream",
     "text": [
      "explained variance\n",
      "[ 0.30058613  0.18588271  0.16178145  0.12607179  0.11650984  0.10796916\n",
      "  0.00119893]\n",
      "[0.3005861277964898, 0.18588271233444506, 0.1617814499816963, 0.12607178822210813, 0.11650983769078388, 0.10796915765859078, 0.0011989263158861585]\n",
      "components\n",
      "[[  6.65808260e-01   6.66620842e-01  -5.29501675e-02   1.00755692e-01\n",
      "   -6.72241802e-02   2.84091533e-01  -1.18884378e-01]\n",
      " [  1.26024643e-01   1.25102036e-01   5.14050280e-01  -7.38714087e-02\n",
      "    5.94788246e-01  -8.28169820e-02   5.81490227e-01]\n",
      " [ -1.68421929e-01  -1.66309622e-01   1.42246588e-01   7.62730955e-01\n",
      "    8.49305304e-02   5.77291872e-01   3.87744899e-02]\n",
      " [ -2.37063274e-02  -2.25865956e-02   8.34383246e-01  -1.68614325e-01\n",
      "   -3.37425678e-01   7.97659096e-02  -3.92534043e-01]\n",
      " [ -6.50462332e-02  -6.22380132e-02  -8.90021556e-02  -2.83693750e-01\n",
      "    6.84749299e-01   2.98583987e-01  -5.87756659e-01]\n",
      " [ -9.14718745e-02  -8.50998919e-02  -9.27238074e-02  -5.41955972e-01\n",
      "   -2.27501457e-01   6.95434208e-01   3.83002968e-01]\n",
      " [  7.06605334e-01  -7.07588530e-01  -8.71949895e-05  -1.89341995e-03\n",
      "   -2.32299243e-04   4.86904485e-03  -1.41975505e-04]]\n",
      "[ 1.14979187 -0.25209977  1.25591679 -0.20654223  0.73208446  1.85721957\n",
      " -0.09604937]\n"
     ]
    }
   ],
   "source": [
    "PCA_method(Purch_PCA) "
   ]
  },
  {
   "cell_type": "code",
   "execution_count": null,
   "metadata": {
    "collapsed": true
   },
   "outputs": [],
   "source": []
  }
 ],
 "metadata": {
  "kernelspec": {
   "display_name": "Python 2",
   "language": "python",
   "name": "python2"
  },
  "language_info": {
   "codemirror_mode": {
    "name": "ipython",
    "version": 2
   },
   "file_extension": ".py",
   "mimetype": "text/x-python",
   "name": "python",
   "nbconvert_exporter": "python",
   "pygments_lexer": "ipython2",
   "version": "2.7.13"
  }
 },
 "nbformat": 4,
 "nbformat_minor": 2
}
